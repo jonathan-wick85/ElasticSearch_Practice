{
 "cells": [
  {
   "cell_type": "markdown",
   "id": "8a962f32-d43d-4a24-b615-95965ba19e61",
   "metadata": {},
   "source": [
    "## Chapter 1 - Searching ElasticSearch"
   ]
  },
  {
   "cell_type": "code",
   "execution_count": 26,
   "id": "39f0c936-cf18-458e-845b-6ae05c79d636",
   "metadata": {},
   "outputs": [
    {
     "name": "stdout",
     "output_type": "stream",
     "text": [
      "{\n",
      "  \"took\" : 67,\n",
      "  \"timed_out\" : false,\n",
      "  \"_shards\" : {\n",
      "    \"total\" : 1,\n",
      "    \"successful\" : 1,\n",
      "    \"skipped\" : 0,\n",
      "    \"failed\" : 0\n",
      "  },\n",
      "  \"hits\" : {\n",
      "    \"total\" : {\n",
      "      \"value\" : 1,\n",
      "      \"relation\" : \"eq\"\n",
      "    },\n",
      "    \"max_score\" : 13.889601,\n",
      "    \"hits\" : [\n",
      "      {\n",
      "        \"_index\" : \"shakespeare\",\n",
      "        \"_type\" : \"_doc\",\n",
      "        \"_id\" : \"34229\",\n",
      "        \"_score\" : 13.889601,\n",
      "        \"_source\" : {\n",
      "          \"type\" : \"line\",\n",
      "          \"line_id\" : 34230,\n",
      "          \"play_name\" : \"Hamlet\",\n",
      "          \"speech_number\" : 19,\n",
      "          \"line_number\" : \"3.1.64\",\n",
      "          \"speaker\" : \"HAMLET\",\n",
      "          \"text_entry\" : \"To be, or not to be: that is the question:\"\n",
      "        }\n",
      "      }\n",
      "    ]\n",
      "  }\n",
      "}\n"
     ]
    }
   ],
   "source": [
    "!curl -H \"Content-Type: application/json\" -XGET 'ec2-13-59-84-109.us-east-2.compute.amazonaws.com:9200/shakespeare/_search?pretty' -d '{\"query\" : {\"match_phrase\" : {\"text_entry\" : \"to be or not to be\"}}}'"
   ]
  },
  {
   "cell_type": "markdown",
   "id": "1558489a-57fc-42b8-8885-faf0892eed63",
   "metadata": {},
   "source": [
    "## Chapter 2 - Mapping and Indexing Data"
   ]
  },
  {
   "cell_type": "markdown",
   "id": "27c18287-66b0-4780-8dbd-b8fc38ba7935",
   "metadata": {},
   "source": [
    "### Mappings\n",
    "    A mapping is a schema definition - elastisearch has reasonable defaults, but sometimes you need to customize them."
   ]
  },
  {
   "cell_type": "markdown",
   "id": "f492d774-4a8c-4e55-9691-0156f4228333",
   "metadata": {},
   "source": [
    "Example \n",
    "\n",
    "    !curl -XPUT 'ec2-13-59-84-109.us-east-2.compute.amazonaws.com:9200/movies -d '{ \"mappings\" : { \"properties\" : { \"year\" : {\"type\": \"date\"}}}}'\n",
    "***\n",
    "### Common Mappings\n",
    "***\n",
    "#### Field types  \n",
    "String, byte, short, integer, long, float, double, boolean, date\n",
    "\n",
    "        \"properties\": {\n",
    "            \"user_id\": {\n",
    "                \"type\": \n",
    "        \"long\"\n",
    "            }\n",
    "        }\n",
    "\n",
    "#### Field Index  \n",
    "Do you want this field indexed for full-text search?  analyzed / not_analyzed / no\n",
    "\n",
    "        \"properties\": {\n",
    "            \"genre\": {\n",
    "                \"index\": \n",
    "        \"not_analyzed\"\n",
    "            }\n",
    "        }\n",
    "\n",
    "#### Field Analyzer\n",
    "Define your tokenizer and token filter.  Standard / whitespace / simple / english etc.\n",
    "\n",
    "        \"properties\": {\n",
    "            \"description\": \n",
    "        {\n",
    "                \"analyzer\": \n",
    "        \"english\"\n",
    "            }\n",
    "        }\n",
    "***\n",
    "### More About Analyzers\n",
    "***\n",
    "#### Character Filters\n",
    "    Remove HTML encoding, convert & to and\n",
    "    \n",
    "#### Tokenizer\n",
    "    Split strings on whitespace / punctuation / non-letters\n",
    "    \n",
    "#### Token Filter\n",
    "    Lowercasing, stemming, synonyms, stopwords*\n",
    "    \n",
    "    *Stopwords might be difficult for searching phrases."
   ]
  },
  {
   "cell_type": "markdown",
   "id": "44ac53f1-2ba2-4f44-b9cd-4b00ff0aee55",
   "metadata": {},
   "source": [
    "***\n",
    "### Choices For Analyzers\n",
    "\n",
    "#### Standard\n",
    "    Splits on word boundaries, removes punctuation, lowercases.  Good choice if language is unknown.\n",
    "#### Simple\n",
    "    Splits on anything that isn't a letter, and lowercase.\n",
    "#### Whitespace\n",
    "    Splits on whitespace but doesn't lowercase.\n",
    "#### Language\n",
    "    Accounts for language-specific stopwords and stemming.\n",
    "***"
   ]
  },
  {
   "cell_type": "markdown",
   "id": "90d8acdf-7406-4e4d-bc06-7cf62ef7b7b5",
   "metadata": {},
   "source": [
    "### Importing a Single Movie (JSON/REST)"
   ]
  },
  {
   "cell_type": "code",
   "execution_count": 28,
   "id": "a059ccff-cfaf-4afe-a87f-340570de9891",
   "metadata": {},
   "outputs": [
    {
     "name": "stdout",
     "output_type": "stream",
     "text": [
      "{\"_index\":\"movies\",\"_type\":\"_doc\",\"_id\":\"109487\",\"_version\":1,\"result\":\"created\",\"_shards\":{\"total\":2,\"successful\":1,\"failed\":0},\"_seq_no\":0,\"_primary_term\":1}"
     ]
    }
   ],
   "source": [
    "!curl -H \"Content-Type: application/json\" -XPUT 'ec2-13-59-84-109.us-east-2.compute.amazonaws.com:9200/movies/_doc/109487' -d '{\"genre\":[\"IMAX\",\"Sci-Fi\"], \"title\": \"Interstellar\", \"year\": 2014}'"
   ]
  },
  {
   "cell_type": "code",
   "execution_count": 29,
   "id": "4ab5c16e-2074-4c3e-97ae-e982125683eb",
   "metadata": {},
   "outputs": [
    {
     "name": "stdout",
     "output_type": "stream",
     "text": [
      "{\"movies\":{\"mappings\":{\"properties\":{\"genre\":{\"type\":\"text\",\"fields\":{\"keyword\":{\"type\":\"keyword\",\"ignore_above\":256}}},\"title\":{\"type\":\"text\",\"fields\":{\"keyword\":{\"type\":\"keyword\",\"ignore_above\":256}}},\"year\":{\"type\":\"long\"}}}}}"
     ]
    }
   ],
   "source": [
    "!curl -H \"Content-Type: application/json\" -XGET 'ec2-13-59-84-109.us-east-2.compute.amazonaws.com:9200/movies/_mapping' "
   ]
  },
  {
   "cell_type": "code",
   "execution_count": 30,
   "id": "c76960d2-a401-4a6c-8076-1647c77219f2",
   "metadata": {},
   "outputs": [
    {
     "name": "stdout",
     "output_type": "stream",
     "text": [
      "{\"_index\":\"movies\",\"_type\":\"_doc\",\"_id\":\"109487\",\"_version\":2,\"result\":\"updated\",\"_shards\":{\"total\":2,\"successful\":1,\"failed\":0},\"_seq_no\":1,\"_primary_term\":1}"
     ]
    }
   ],
   "source": [
    "!curl -H \"Content-Type: application/json\" -XPOST 'ec2-13-59-84-109.us-east-2.compute.amazonaws.com:9200/movies/_doc/109487' -d '{\"genre\":[\"IMAX\",\"Sci-Fi\"], \"title\": \"Interstellar\", \"year\": 2014}'"
   ]
  },
  {
   "cell_type": "code",
   "execution_count": 31,
   "id": "6eaca40a-4d2f-489a-a51c-167db090f9cc",
   "metadata": {},
   "outputs": [
    {
     "name": "stdout",
     "output_type": "stream",
     "text": [
      "{\n",
      "  \"took\" : 944,\n",
      "  \"timed_out\" : false,\n",
      "  \"_shards\" : {\n",
      "    \"total\" : 1,\n",
      "    \"successful\" : 1,\n",
      "    \"skipped\" : 0,\n",
      "    \"failed\" : 0\n",
      "  },\n",
      "  \"hits\" : {\n",
      "    \"total\" : {\n",
      "      \"value\" : 1,\n",
      "      \"relation\" : \"eq\"\n",
      "    },\n",
      "    \"max_score\" : 1.0,\n",
      "    \"hits\" : [\n",
      "      {\n",
      "        \"_index\" : \"movies\",\n",
      "        \"_type\" : \"_doc\",\n",
      "        \"_id\" : \"109487\",\n",
      "        \"_score\" : 1.0,\n",
      "        \"_source\" : {\n",
      "          \"genre\" : [\n",
      "            \"IMAX\",\n",
      "            \"Sci-Fi\"\n",
      "          ],\n",
      "          \"title\" : \"Interstellar\",\n",
      "          \"year\" : 2014\n",
      "        }\n",
      "      }\n",
      "    ]\n",
      "  }\n",
      "}\n"
     ]
    }
   ],
   "source": [
    "!curl -H \"Content-Type: application/json\" -XGET 'ec2-13-59-84-109.us-east-2.compute.amazonaws.com:9200/movies/_search?pretty' "
   ]
  },
  {
   "cell_type": "markdown",
   "id": "56044184-8a5b-40c2-8a23-940fa3bdee2b",
   "metadata": {},
   "source": [
    "### Import Many Documents using Bulk"
   ]
  },
  {
   "cell_type": "code",
   "execution_count": 84,
   "id": "589f6c6d-643d-4924-b3e7-cfdb485db7e8",
   "metadata": {},
   "outputs": [
    {
     "name": "stdout",
     "output_type": "stream",
     "text": [
      "{\n",
      "  \"took\" : 5,\n",
      "  \"timed_out\" : false,\n",
      "  \"_shards\" : {\n",
      "    \"total\" : 2,\n",
      "    \"successful\" : 2,\n",
      "    \"skipped\" : 0,\n",
      "    \"failed\" : 0\n",
      "  },\n",
      "  \"hits\" : {\n",
      "    \"total\" : {\n",
      "      \"value\" : 10000,\n",
      "      \"relation\" : \"gte\"\n",
      "    },\n",
      "    \"max_score\" : 1.0,\n",
      "    \"hits\" : [\n",
      "      {\n",
      "        \"_index\" : \"movies\",\n",
      "        \"_type\" : \"_doc\",\n",
      "        \"_id\" : \"109487\",\n",
      "        \"_score\" : 1.0,\n",
      "        \"_source\" : {\n",
      "          \"genre\" : [\n",
      "            \"IMAX\",\n",
      "            \"Sci-Fi\"\n",
      "          ],\n",
      "          \"title\" : \"Interstellar\",\n",
      "          \"year\" : 2014\n",
      "        }\n",
      "      },\n",
      "      {\n",
      "        \"_index\" : \"movies\",\n",
      "        \"_type\" : \"_doc\",\n",
      "        \"_id\" : \"135569\",\n",
      "        \"_score\" : 1.0,\n",
      "        \"_source\" : {\n",
      "          \"id\" : \"135569\",\n",
      "          \"title\" : \"Star Trek Beyond\",\n",
      "          \"year\" : 2016,\n",
      "          \"genre\" : [\n",
      "            \"Action\",\n",
      "            \"Adventure\",\n",
      "            \"Sci-Fi\"\n",
      "          ]\n",
      "        }\n",
      "      },\n",
      "      {\n",
      "        \"_index\" : \"movies\",\n",
      "        \"_type\" : \"_doc\",\n",
      "        \"_id\" : \"122886\",\n",
      "        \"_score\" : 1.0,\n",
      "        \"_source\" : {\n",
      "          \"id\" : \"122886\",\n",
      "          \"title\" : \"Star Wars: Episode VII - The Force Awakens\",\n",
      "          \"year\" : 2015,\n",
      "          \"genre\" : [\n",
      "            \"Action\",\n",
      "            \"Adventure\",\n",
      "            \"Fantasy\",\n",
      "            \"Sci-Fi\",\n",
      "            \"IMAX\"\n",
      "          ]\n",
      "        }\n",
      "      },\n",
      "      {\n",
      "        \"_index\" : \"movies\",\n",
      "        \"_type\" : \"_doc\",\n",
      "        \"_id\" : \"58559\",\n",
      "        \"_score\" : 1.0,\n",
      "        \"_source\" : {\n",
      "          \"id\" : \"58559\",\n",
      "          \"title\" : \"Dark Knight, The\",\n",
      "          \"year\" : 2008,\n",
      "          \"genre\" : [\n",
      "            \"Action\",\n",
      "            \"Crime\",\n",
      "            \"Drama\",\n",
      "            \"IMAX\"\n",
      "          ]\n",
      "        }\n",
      "      },\n",
      "      {\n",
      "        \"_index\" : \"movies\",\n",
      "        \"_type\" : \"_doc\",\n",
      "        \"_id\" : \"1924\",\n",
      "        \"_score\" : 1.0,\n",
      "        \"_source\" : {\n",
      "          \"id\" : \"1924\",\n",
      "          \"title\" : \"Plan 9 from Outer Space\",\n",
      "          \"year\" : 1959,\n",
      "          \"genre\" : [\n",
      "            \"Horror\",\n",
      "            \"Sci-Fi\"\n",
      "          ]\n",
      "        }\n",
      "      },\n",
      "      {\n",
      "        \"_index\" : \"shakespeare\",\n",
      "        \"_type\" : \"_doc\",\n",
      "        \"_id\" : \"0\",\n",
      "        \"_score\" : 1.0,\n",
      "        \"_source\" : {\n",
      "          \"type\" : \"act\",\n",
      "          \"line_id\" : 1,\n",
      "          \"play_name\" : \"Henry IV\",\n",
      "          \"speech_number\" : \"\",\n",
      "          \"line_number\" : \"\",\n",
      "          \"speaker\" : \"\",\n",
      "          \"text_entry\" : \"ACT I\"\n",
      "        }\n",
      "      },\n",
      "      {\n",
      "        \"_index\" : \"shakespeare\",\n",
      "        \"_type\" : \"_doc\",\n",
      "        \"_id\" : \"1\",\n",
      "        \"_score\" : 1.0,\n",
      "        \"_source\" : {\n",
      "          \"type\" : \"scene\",\n",
      "          \"line_id\" : 2,\n",
      "          \"play_name\" : \"Henry IV\",\n",
      "          \"speech_number\" : \"\",\n",
      "          \"line_number\" : \"\",\n",
      "          \"speaker\" : \"\",\n",
      "          \"text_entry\" : \"SCENE I. London. The palace.\"\n",
      "        }\n",
      "      },\n",
      "      {\n",
      "        \"_index\" : \"shakespeare\",\n",
      "        \"_type\" : \"_doc\",\n",
      "        \"_id\" : \"2\",\n",
      "        \"_score\" : 1.0,\n",
      "        \"_source\" : {\n",
      "          \"type\" : \"line\",\n",
      "          \"line_id\" : 3,\n",
      "          \"play_name\" : \"Henry IV\",\n",
      "          \"speech_number\" : \"\",\n",
      "          \"line_number\" : \"\",\n",
      "          \"speaker\" : \"\",\n",
      "          \"text_entry\" : \"Enter KING HENRY, LORD JOHN OF LANCASTER, the EARL of WESTMORELAND, SIR WALTER BLUNT, and others\"\n",
      "        }\n",
      "      },\n",
      "      {\n",
      "        \"_index\" : \"shakespeare\",\n",
      "        \"_type\" : \"_doc\",\n",
      "        \"_id\" : \"3\",\n",
      "        \"_score\" : 1.0,\n",
      "        \"_source\" : {\n",
      "          \"type\" : \"line\",\n",
      "          \"line_id\" : 4,\n",
      "          \"play_name\" : \"Henry IV\",\n",
      "          \"speech_number\" : 1,\n",
      "          \"line_number\" : \"1.1.1\",\n",
      "          \"speaker\" : \"KING HENRY IV\",\n",
      "          \"text_entry\" : \"So shaken as we are, so wan with care,\"\n",
      "        }\n",
      "      },\n",
      "      {\n",
      "        \"_index\" : \"shakespeare\",\n",
      "        \"_type\" : \"_doc\",\n",
      "        \"_id\" : \"4\",\n",
      "        \"_score\" : 1.0,\n",
      "        \"_source\" : {\n",
      "          \"type\" : \"line\",\n",
      "          \"line_id\" : 5,\n",
      "          \"play_name\" : \"Henry IV\",\n",
      "          \"speech_number\" : 1,\n",
      "          \"line_number\" : \"1.1.2\",\n",
      "          \"speaker\" : \"KING HENRY IV\",\n",
      "          \"text_entry\" : \"Find we a time for frighted peace to pant,\"\n",
      "        }\n",
      "      }\n",
      "    ]\n",
      "  }\n",
      "}\n"
     ]
    }
   ],
   "source": [
    "#!curl -H \"Content-Type: application/json\" -XPUT 'ec2-13-59-84-109.us-east-2.compute.amazonaws.com:9200/_bulk?pretty' --data-binary @movies.json\n",
    "!curl -H \"Content-Type: application/json\" -XGET 'ec2-13-59-84-109.us-east-2.compute.amazonaws.com:9200/_search?pretty'"
   ]
  },
  {
   "cell_type": "markdown",
   "id": "848b4526-1f65-4516-976e-60ace94483f8",
   "metadata": {},
   "source": [
    "***\n",
    "### Updating Data in Elasticsearch \n",
    "#### Versions\n",
    "  * Every document has a _version field \n",
    "  * Elasticsearch documents are __immutable__ \n",
    "  * When you update an existing document: \n",
    "      * a new document is created with an incremented _version \n",
    "      * the old document is marked for deletion \n",
    "      \n",
    "#### Partial Update API\n",
    "    curl -H \"Content-Type: application/json\" -XPOST 127.0.0.1:9200/movies/_doc/109487/_update -d ' \n",
    "        { \n",
    "            \"doc\":{ \n",
    "                \"title\": \"Interstellar\" \n",
    "            } \n",
    "            }'"
   ]
  },
  {
   "cell_type": "code",
   "execution_count": 85,
   "id": "f3538d6b-17a6-4fe1-94c6-5ce97eb88c76",
   "metadata": {},
   "outputs": [
    {
     "name": "stdout",
     "output_type": "stream",
     "text": [
      "{\n",
      "  \"_index\" : \"movies\",\n",
      "  \"_type\" : \"_doc\",\n",
      "  \"_id\" : \"109487\",\n",
      "  \"_version\" : 3,\n",
      "  \"result\" : \"updated\",\n",
      "  \"_shards\" : {\n",
      "    \"total\" : 2,\n",
      "    \"successful\" : 1,\n",
      "    \"failed\" : 0\n",
      "  },\n",
      "  \"_seq_no\" : 6,\n",
      "  \"_primary_term\" : 1\n",
      "}\n"
     ]
    }
   ],
   "source": [
    "!curl -H \"Content-Type: application/json\" -XPUT  'ec2-13-59-84-109.us-east-2.compute.amazonaws.com:9200/movies/_doc/109487?pretty' -d '{\"genres\": [\"IMAX\", \"Sci-Fi\"], \"title\": \"Interstellar foo\",\"year\":2014}'"
   ]
  },
  {
   "cell_type": "code",
   "execution_count": 86,
   "id": "bd1a9e21-7c93-483b-b72d-73a3f321ed8d",
   "metadata": {},
   "outputs": [
    {
     "name": "stdout",
     "output_type": "stream",
     "text": [
      "{\n",
      "  \"_index\" : \"movies\",\n",
      "  \"_type\" : \"_doc\",\n",
      "  \"_id\" : \"109487\",\n",
      "  \"_version\" : 3,\n",
      "  \"_seq_no\" : 6,\n",
      "  \"_primary_term\" : 1,\n",
      "  \"found\" : true,\n",
      "  \"_source\" : {\n",
      "    \"genres\" : [\n",
      "      \"IMAX\",\n",
      "      \"Sci-Fi\"\n",
      "    ],\n",
      "    \"title\" : \"Interstellar foo\",\n",
      "    \"year\" : 2014\n",
      "  }\n",
      "}\n"
     ]
    }
   ],
   "source": [
    "!curl -H \"Content-Type: application/json\" -XGET 'ec2-13-59-84-109.us-east-2.compute.amazonaws.com:9200/movies/_doc/109487?pretty' "
   ]
  },
  {
   "cell_type": "code",
   "execution_count": 88,
   "id": "c576f760-f2b9-4f67-97ce-86a48d964e9b",
   "metadata": {},
   "outputs": [
    {
     "name": "stdout",
     "output_type": "stream",
     "text": [
      "{\"_index\":\"movies\",\"_type\":\"_doc\",\"_id\":\"109487\",\"_version\":4,\"result\":\"updated\",\"_shards\":{\"total\":2,\"successful\":1,\"failed\":0},\"_seq_no\":7,\"_primary_term\":1}"
     ]
    }
   ],
   "source": [
    "!curl -H \"Content-Type: application/json\" -XPOST  'ec2-13-59-84-109.us-east-2.compute.amazonaws.com:9200/movies/_doc/109487/_update' -d '{\"doc\": {\"title\": \"Interstellar\",\"year\":2014}}'"
   ]
  },
  {
   "cell_type": "code",
   "execution_count": 89,
   "id": "f34c969e-f8f0-4762-9ab6-80b096609268",
   "metadata": {},
   "outputs": [
    {
     "name": "stdout",
     "output_type": "stream",
     "text": [
      "{\n",
      "  \"_index\" : \"movies\",\n",
      "  \"_type\" : \"_doc\",\n",
      "  \"_id\" : \"109487\",\n",
      "  \"_version\" : 4,\n",
      "  \"_seq_no\" : 7,\n",
      "  \"_primary_term\" : 1,\n",
      "  \"found\" : true,\n",
      "  \"_source\" : {\n",
      "    \"genres\" : [\n",
      "      \"IMAX\",\n",
      "      \"Sci-Fi\"\n",
      "    ],\n",
      "    \"title\" : \"Interstellar\",\n",
      "    \"year\" : 2014\n",
      "  }\n",
      "}\n"
     ]
    }
   ],
   "source": [
    "!curl -H \"Content-Type: application/json\" -XGET 'ec2-13-59-84-109.us-east-2.compute.amazonaws.com:9200/movies/_doc/109487?pretty' "
   ]
  },
  {
   "cell_type": "markdown",
   "id": "3e2794da-3726-4fd4-8e71-287482004e74",
   "metadata": {},
   "source": [
    "***\n",
    "### Deleting Data in Elasticsearch\n",
    "    Just use the DELETE method:\n",
    "        curl -XDELETE 127.0.0.1:9200/movies/_doc/58559\n",
    "        \n",
    " "
   ]
  },
  {
   "cell_type": "code",
   "execution_count": 90,
   "id": "36f3cd0e-1d8e-4307-b218-939e2139330c",
   "metadata": {},
   "outputs": [
    {
     "name": "stdout",
     "output_type": "stream",
     "text": [
      "{\"took\":704,\"timed_out\":false,\"_shards\":{\"total\":1,\"successful\":1,\"skipped\":0,\"failed\":0},\"hits\":{\"total\":{\"value\":1,\"relation\":\"eq\"},\"max_score\":1.5169399,\"hits\":[{\"_index\":\"movies\",\"_type\":\"_doc\",\"_id\":\"58559\",\"_score\":1.5169399,\"_source\":{ \"id\": \"58559\", \"title\" : \"Dark Knight, The\", \"year\":2008 , \"genre\":[\"Action\", \"Crime\", \"Drama\", \"IMAX\"] }}]}}"
     ]
    }
   ],
   "source": [
    "!curl -H \"Content-Type: application/json\" -XGET 'ec2-13-59-84-109.us-east-2.compute.amazonaws.com:9200/movies/_search?q=Dark' "
   ]
  },
  {
   "cell_type": "code",
   "execution_count": 91,
   "id": "8407ffa3-f366-4313-929e-d0437e4a28bc",
   "metadata": {},
   "outputs": [
    {
     "name": "stdout",
     "output_type": "stream",
     "text": [
      "{\n",
      "  \"_index\" : \"movies\",\n",
      "  \"_type\" : \"_doc\",\n",
      "  \"_id\" : \"58559\",\n",
      "  \"_version\" : 2,\n",
      "  \"result\" : \"deleted\",\n",
      "  \"_shards\" : {\n",
      "    \"total\" : 2,\n",
      "    \"successful\" : 1,\n",
      "    \"failed\" : 0\n",
      "  },\n",
      "  \"_seq_no\" : 8,\n",
      "  \"_primary_term\" : 1\n",
      "}\n"
     ]
    }
   ],
   "source": [
    "!curl -H \"Content-Type: application/json\" -XDELETE 'ec2-13-59-84-109.us-east-2.compute.amazonaws.com:9200/movies/_doc/58559?pretty' "
   ]
  },
  {
   "cell_type": "code",
   "execution_count": 92,
   "id": "10c79c1d-b271-4355-93b7-ccecfaafbfe5",
   "metadata": {},
   "outputs": [
    {
     "name": "stdout",
     "output_type": "stream",
     "text": [
      "{\"took\":4,\"timed_out\":false,\"_shards\":{\"total\":1,\"successful\":1,\"skipped\":0,\"failed\":0},\"hits\":{\"total\":{\"value\":0,\"relation\":\"eq\"},\"max_score\":null,\"hits\":[]}}"
     ]
    }
   ],
   "source": [
    "!curl -H \"Content-Type: application/json\" -XGET 'ec2-13-59-84-109.us-east-2.compute.amazonaws.com:9200/movies/_search?q=Dark'"
   ]
  },
  {
   "cell_type": "markdown",
   "id": "32074b37-f35d-430c-b316-a77974a4ebe7",
   "metadata": {},
   "source": [
    "***\n",
    "### Summary of Insert/Update/Delete"
   ]
  },
  {
   "cell_type": "code",
   "execution_count": 93,
   "id": "e8624163-9feb-4866-95ab-66a32270b926",
   "metadata": {},
   "outputs": [
    {
     "name": "stdout",
     "output_type": "stream",
     "text": [
      "{\n",
      "  \"_index\" : \"movies\",\n",
      "  \"_type\" : \"_doc\",\n",
      "  \"_id\" : \"200000\",\n",
      "  \"_version\" : 1,\n",
      "  \"result\" : \"created\",\n",
      "  \"_shards\" : {\n",
      "    \"total\" : 2,\n",
      "    \"successful\" : 1,\n",
      "    \"failed\" : 0\n",
      "  },\n",
      "  \"_seq_no\" : 9,\n",
      "  \"_primary_term\" : 1\n",
      "}\n"
     ]
    }
   ],
   "source": [
    "!curl -H \"Content-Type: application/json\" -XPUT 'ec2-13-59-84-109.us-east-2.compute.amazonaws.com:9200/movies/_doc/200000?pretty' -d '{\"title\": \"Jons movie in Elastic\", \"genres\":[\"Documentary\"], \"year\": 2019}'"
   ]
  },
  {
   "cell_type": "code",
   "execution_count": 94,
   "id": "58930965-ee74-4811-aadf-73557781e0d9",
   "metadata": {},
   "outputs": [
    {
     "name": "stdout",
     "output_type": "stream",
     "text": [
      "{\n",
      "  \"_index\" : \"movies\",\n",
      "  \"_type\" : \"_doc\",\n",
      "  \"_id\" : \"200000\",\n",
      "  \"_version\" : 1,\n",
      "  \"_seq_no\" : 9,\n",
      "  \"_primary_term\" : 1,\n",
      "  \"found\" : true,\n",
      "  \"_source\" : {\n",
      "    \"title\" : \"Jons movie in Elastic\",\n",
      "    \"genres\" : [\n",
      "      \"Documentary\"\n",
      "    ],\n",
      "    \"year\" : 2019\n",
      "  }\n",
      "}\n"
     ]
    }
   ],
   "source": [
    "!curl -H \"Content-Type: application/json\" -XGET 'ec2-13-59-84-109.us-east-2.compute.amazonaws.com:9200/movies/_doc/200000?pretty'"
   ]
  },
  {
   "cell_type": "code",
   "execution_count": 95,
   "id": "065781c6-2530-47af-917e-83b82d33ab28",
   "metadata": {},
   "outputs": [
    {
     "name": "stdout",
     "output_type": "stream",
     "text": [
      "{\"_index\":\"movies\",\"_type\":\"_doc\",\"_id\":\"200000\",\"_version\":2,\"result\":\"updated\",\"_shards\":{\"total\":2,\"successful\":1,\"failed\":0},\"_seq_no\":10,\"_primary_term\":1}"
     ]
    }
   ],
   "source": [
    "!curl -H \"Content-Type: application/json\" -XPOST 'ec2-13-59-84-109.us-east-2.compute.amazonaws.com:9200/movies/_doc/200000/_update' -d '{\"doc\": {\"genres\":[\"Documentary\", \"Comedy\"]}}'"
   ]
  },
  {
   "cell_type": "code",
   "execution_count": 96,
   "id": "3c204e92-4fe9-46d0-b1fd-e3e9469c3103",
   "metadata": {},
   "outputs": [
    {
     "name": "stdout",
     "output_type": "stream",
     "text": [
      "{\n",
      "  \"_index\" : \"movies\",\n",
      "  \"_type\" : \"_doc\",\n",
      "  \"_id\" : \"200000\",\n",
      "  \"_version\" : 2,\n",
      "  \"_seq_no\" : 10,\n",
      "  \"_primary_term\" : 1,\n",
      "  \"found\" : true,\n",
      "  \"_source\" : {\n",
      "    \"title\" : \"Jons movie in Elastic\",\n",
      "    \"genres\" : [\n",
      "      \"Documentary\",\n",
      "      \"Comedy\"\n",
      "    ],\n",
      "    \"year\" : 2019\n",
      "  }\n",
      "}\n"
     ]
    }
   ],
   "source": [
    "!curl -H \"Content-Type: application/json\" -XGET 'ec2-13-59-84-109.us-east-2.compute.amazonaws.com:9200/movies/_doc/200000?pretty'"
   ]
  },
  {
   "cell_type": "code",
   "execution_count": 97,
   "id": "64513bf7-16e5-4c3d-a185-c696e9ee9e1a",
   "metadata": {},
   "outputs": [
    {
     "name": "stdout",
     "output_type": "stream",
     "text": [
      "{\n",
      "  \"_index\" : \"movies\",\n",
      "  \"_type\" : \"_doc\",\n",
      "  \"_id\" : \"200000\",\n",
      "  \"_version\" : 3,\n",
      "  \"result\" : \"deleted\",\n",
      "  \"_shards\" : {\n",
      "    \"total\" : 2,\n",
      "    \"successful\" : 1,\n",
      "    \"failed\" : 0\n",
      "  },\n",
      "  \"_seq_no\" : 11,\n",
      "  \"_primary_term\" : 1\n",
      "}\n"
     ]
    }
   ],
   "source": [
    "!curl -H \"Content-Type: application/json\" -XDELETE 'ec2-13-59-84-109.us-east-2.compute.amazonaws.com:9200/movies/_doc/200000?pretty'"
   ]
  },
  {
   "cell_type": "markdown",
   "id": "401be8e7-bf9c-4bec-acf6-62c6825a8e58",
   "metadata": {},
   "source": [
    "### Dealing with Concurrency"
   ]
  },
  {
   "cell_type": "code",
   "execution_count": null,
   "id": "a6c05fbd-65e6-409f-a3aa-c906276e1e80",
   "metadata": {},
   "outputs": [],
   "source": []
  }
 ],
 "metadata": {
  "kernelspec": {
   "display_name": "Python 3",
   "language": "python",
   "name": "python3"
  },
  "language_info": {
   "codemirror_mode": {
    "name": "ipython",
    "version": 3
   },
   "file_extension": ".py",
   "mimetype": "text/x-python",
   "name": "python",
   "nbconvert_exporter": "python",
   "pygments_lexer": "ipython3",
   "version": "3.9.4"
  }
 },
 "nbformat": 4,
 "nbformat_minor": 5
}
