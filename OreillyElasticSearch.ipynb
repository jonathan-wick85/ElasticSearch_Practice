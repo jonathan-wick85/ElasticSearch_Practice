{
 "cells": [
  {
   "cell_type": "markdown",
   "id": "8a962f32-d43d-4a24-b615-95965ba19e61",
   "metadata": {},
   "source": [
    "## Chapter 1 - Searching ElasticSearch"
   ]
  },
  {
   "cell_type": "code",
   "execution_count": 26,
   "id": "39f0c936-cf18-458e-845b-6ae05c79d636",
   "metadata": {},
   "outputs": [
    {
     "name": "stdout",
     "output_type": "stream",
     "text": [
      "{\n",
      "  \"took\" : 67,\n",
      "  \"timed_out\" : false,\n",
      "  \"_shards\" : {\n",
      "    \"total\" : 1,\n",
      "    \"successful\" : 1,\n",
      "    \"skipped\" : 0,\n",
      "    \"failed\" : 0\n",
      "  },\n",
      "  \"hits\" : {\n",
      "    \"total\" : {\n",
      "      \"value\" : 1,\n",
      "      \"relation\" : \"eq\"\n",
      "    },\n",
      "    \"max_score\" : 13.889601,\n",
      "    \"hits\" : [\n",
      "      {\n",
      "        \"_index\" : \"shakespeare\",\n",
      "        \"_type\" : \"_doc\",\n",
      "        \"_id\" : \"34229\",\n",
      "        \"_score\" : 13.889601,\n",
      "        \"_source\" : {\n",
      "          \"type\" : \"line\",\n",
      "          \"line_id\" : 34230,\n",
      "          \"play_name\" : \"Hamlet\",\n",
      "          \"speech_number\" : 19,\n",
      "          \"line_number\" : \"3.1.64\",\n",
      "          \"speaker\" : \"HAMLET\",\n",
      "          \"text_entry\" : \"To be, or not to be: that is the question:\"\n",
      "        }\n",
      "      }\n",
      "    ]\n",
      "  }\n",
      "}\n"
     ]
    }
   ],
   "source": [
    "!curl -H \"Content-Type: application/json\" -XGET 'ec2-13-59-84-109.us-east-2.compute.amazonaws.com:9200/shakespeare/_search?pretty' -d '{\"query\" : {\"match_phrase\" : {\"text_entry\" : \"to be or not to be\"}}}'"
   ]
  },
  {
   "cell_type": "markdown",
   "id": "1558489a-57fc-42b8-8885-faf0892eed63",
   "metadata": {},
   "source": [
    "## Chapter 2 - Mapping and Indexing Data"
   ]
  },
  {
   "cell_type": "markdown",
   "id": "27c18287-66b0-4780-8dbd-b8fc38ba7935",
   "metadata": {},
   "source": [
    "### Mappings\n",
    "    A mapping is a schema definition - elastisearch has reasonable defaults, but sometimes you need to customize them."
   ]
  },
  {
   "cell_type": "markdown",
   "id": "f492d774-4a8c-4e55-9691-0156f4228333",
   "metadata": {},
   "source": [
    "Example \n",
    "\n",
    "    !curl -XPUT 'ec2-13-59-84-109.us-east-2.compute.amazonaws.com:9200/movies -d '{ \"mappings\" : { \"properties\" : { \"year\" : {\"type\": \"date\"}}}}'\n",
    "***\n",
    "### Common Mappings\n",
    "***\n",
    "#### Field types  \n",
    "String, byte, short, integer, long, float, double, boolean, date\n",
    "\n",
    "        \"properties\": {\n",
    "            \"user_id\": {\n",
    "                \"type\": \n",
    "        \"long\"\n",
    "            }\n",
    "        }\n",
    "\n",
    "#### Field Index  \n",
    "Do you want this field indexed for full-text search?  analyzed / not_analyzed / no\n",
    "\n",
    "        \"properties\": {\n",
    "            \"genre\": {\n",
    "                \"index\": \n",
    "        \"not_analyzed\"\n",
    "            }\n",
    "        }\n",
    "\n",
    "#### Field Analyzer\n",
    "Define your tokenizer and token filter.  Standard / whitespace / simple / english etc.\n",
    "\n",
    "        \"properties\": {\n",
    "            \"description\": \n",
    "        {\n",
    "                \"analyzer\": \n",
    "        \"english\"\n",
    "            }\n",
    "        }\n",
    "***\n",
    "### More About Analyzers\n",
    "***\n",
    "#### Character Filters\n",
    "    Remove HTML encoding, convert & to and\n",
    "    \n",
    "#### Tokenizer\n",
    "    Split strings on whitespace / punctuation / non-letters\n",
    "    \n",
    "#### Token Filter\n",
    "    Lowercasing, stemming, synonyms, stopwords*\n",
    "    \n",
    "    *Stopwords might be difficult for searching phrases."
   ]
  },
  {
   "cell_type": "markdown",
   "id": "44ac53f1-2ba2-4f44-b9cd-4b00ff0aee55",
   "metadata": {},
   "source": [
    "***\n",
    "### Choices For Analyzers\n",
    "\n",
    "#### Standard\n",
    "    Splits on word boundaries, removes punctuation, lowercases.  Good choice if language is unknown.\n",
    "#### Simple\n",
    "    Splits on anything that isn't a letter, and lowercase.\n",
    "#### Whitespace\n",
    "    Splits on whitespace but doesn't lowercase.\n",
    "#### Language\n",
    "    Accounts for language-specific stopwords and stemming.\n",
    "***"
   ]
  },
  {
   "cell_type": "markdown",
   "id": "90d8acdf-7406-4e4d-bc06-7cf62ef7b7b5",
   "metadata": {},
   "source": [
    "### Importing a Single Movie (JSON/REST)"
   ]
  },
  {
   "cell_type": "code",
   "execution_count": 28,
   "id": "a059ccff-cfaf-4afe-a87f-340570de9891",
   "metadata": {},
   "outputs": [
    {
     "name": "stdout",
     "output_type": "stream",
     "text": [
      "{\"_index\":\"movies\",\"_type\":\"_doc\",\"_id\":\"109487\",\"_version\":1,\"result\":\"created\",\"_shards\":{\"total\":2,\"successful\":1,\"failed\":0},\"_seq_no\":0,\"_primary_term\":1}"
     ]
    }
   ],
   "source": [
    "!curl -H \"Content-Type: application/json\" -XPUT 'ec2-13-59-84-109.us-east-2.compute.amazonaws.com:9200/movies/_doc/109487' -d '{\"genre\":[\"IMAX\",\"Sci-Fi\"], \"title\": \"Interstellar\", \"year\": 2014}'"
   ]
  },
  {
   "cell_type": "code",
   "execution_count": 29,
   "id": "4ab5c16e-2074-4c3e-97ae-e982125683eb",
   "metadata": {},
   "outputs": [
    {
     "name": "stdout",
     "output_type": "stream",
     "text": [
      "{\"movies\":{\"mappings\":{\"properties\":{\"genre\":{\"type\":\"text\",\"fields\":{\"keyword\":{\"type\":\"keyword\",\"ignore_above\":256}}},\"title\":{\"type\":\"text\",\"fields\":{\"keyword\":{\"type\":\"keyword\",\"ignore_above\":256}}},\"year\":{\"type\":\"long\"}}}}}"
     ]
    }
   ],
   "source": [
    "!curl -H \"Content-Type: application/json\" -XGET 'ec2-13-59-84-109.us-east-2.compute.amazonaws.com:9200/movies/_mapping' "
   ]
  },
  {
   "cell_type": "code",
   "execution_count": 30,
   "id": "c76960d2-a401-4a6c-8076-1647c77219f2",
   "metadata": {},
   "outputs": [
    {
     "name": "stdout",
     "output_type": "stream",
     "text": [
      "{\"_index\":\"movies\",\"_type\":\"_doc\",\"_id\":\"109487\",\"_version\":2,\"result\":\"updated\",\"_shards\":{\"total\":2,\"successful\":1,\"failed\":0},\"_seq_no\":1,\"_primary_term\":1}"
     ]
    }
   ],
   "source": [
    "!curl -H \"Content-Type: application/json\" -XPOST 'ec2-13-59-84-109.us-east-2.compute.amazonaws.com:9200/movies/_doc/109487' -d '{\"genre\":[\"IMAX\",\"Sci-Fi\"], \"title\": \"Interstellar\", \"year\": 2014}'"
   ]
  },
  {
   "cell_type": "code",
   "execution_count": 31,
   "id": "6eaca40a-4d2f-489a-a51c-167db090f9cc",
   "metadata": {},
   "outputs": [
    {
     "name": "stdout",
     "output_type": "stream",
     "text": [
      "{\n",
      "  \"took\" : 944,\n",
      "  \"timed_out\" : false,\n",
      "  \"_shards\" : {\n",
      "    \"total\" : 1,\n",
      "    \"successful\" : 1,\n",
      "    \"skipped\" : 0,\n",
      "    \"failed\" : 0\n",
      "  },\n",
      "  \"hits\" : {\n",
      "    \"total\" : {\n",
      "      \"value\" : 1,\n",
      "      \"relation\" : \"eq\"\n",
      "    },\n",
      "    \"max_score\" : 1.0,\n",
      "    \"hits\" : [\n",
      "      {\n",
      "        \"_index\" : \"movies\",\n",
      "        \"_type\" : \"_doc\",\n",
      "        \"_id\" : \"109487\",\n",
      "        \"_score\" : 1.0,\n",
      "        \"_source\" : {\n",
      "          \"genre\" : [\n",
      "            \"IMAX\",\n",
      "            \"Sci-Fi\"\n",
      "          ],\n",
      "          \"title\" : \"Interstellar\",\n",
      "          \"year\" : 2014\n",
      "        }\n",
      "      }\n",
      "    ]\n",
      "  }\n",
      "}\n"
     ]
    }
   ],
   "source": [
    "!curl -H \"Content-Type: application/json\" -XGET 'ec2-13-59-84-109.us-east-2.compute.amazonaws.com:9200/movies/_search?pretty' "
   ]
  },
  {
   "cell_type": "markdown",
   "id": "56044184-8a5b-40c2-8a23-940fa3bdee2b",
   "metadata": {},
   "source": [
    "### Import Many Documents using Bulk"
   ]
  },
  {
   "cell_type": "code",
   "execution_count": 84,
   "id": "589f6c6d-643d-4924-b3e7-cfdb485db7e8",
   "metadata": {},
   "outputs": [
    {
     "name": "stdout",
     "output_type": "stream",
     "text": [
      "{\n",
      "  \"took\" : 5,\n",
      "  \"timed_out\" : false,\n",
      "  \"_shards\" : {\n",
      "    \"total\" : 2,\n",
      "    \"successful\" : 2,\n",
      "    \"skipped\" : 0,\n",
      "    \"failed\" : 0\n",
      "  },\n",
      "  \"hits\" : {\n",
      "    \"total\" : {\n",
      "      \"value\" : 10000,\n",
      "      \"relation\" : \"gte\"\n",
      "    },\n",
      "    \"max_score\" : 1.0,\n",
      "    \"hits\" : [\n",
      "      {\n",
      "        \"_index\" : \"movies\",\n",
      "        \"_type\" : \"_doc\",\n",
      "        \"_id\" : \"109487\",\n",
      "        \"_score\" : 1.0,\n",
      "        \"_source\" : {\n",
      "          \"genre\" : [\n",
      "            \"IMAX\",\n",
      "            \"Sci-Fi\"\n",
      "          ],\n",
      "          \"title\" : \"Interstellar\",\n",
      "          \"year\" : 2014\n",
      "        }\n",
      "      },\n",
      "      {\n",
      "        \"_index\" : \"movies\",\n",
      "        \"_type\" : \"_doc\",\n",
      "        \"_id\" : \"135569\",\n",
      "        \"_score\" : 1.0,\n",
      "        \"_source\" : {\n",
      "          \"id\" : \"135569\",\n",
      "          \"title\" : \"Star Trek Beyond\",\n",
      "          \"year\" : 2016,\n",
      "          \"genre\" : [\n",
      "            \"Action\",\n",
      "            \"Adventure\",\n",
      "            \"Sci-Fi\"\n",
      "          ]\n",
      "        }\n",
      "      },\n",
      "      {\n",
      "        \"_index\" : \"movies\",\n",
      "        \"_type\" : \"_doc\",\n",
      "        \"_id\" : \"122886\",\n",
      "        \"_score\" : 1.0,\n",
      "        \"_source\" : {\n",
      "          \"id\" : \"122886\",\n",
      "          \"title\" : \"Star Wars: Episode VII - The Force Awakens\",\n",
      "          \"year\" : 2015,\n",
      "          \"genre\" : [\n",
      "            \"Action\",\n",
      "            \"Adventure\",\n",
      "            \"Fantasy\",\n",
      "            \"Sci-Fi\",\n",
      "            \"IMAX\"\n",
      "          ]\n",
      "        }\n",
      "      },\n",
      "      {\n",
      "        \"_index\" : \"movies\",\n",
      "        \"_type\" : \"_doc\",\n",
      "        \"_id\" : \"58559\",\n",
      "        \"_score\" : 1.0,\n",
      "        \"_source\" : {\n",
      "          \"id\" : \"58559\",\n",
      "          \"title\" : \"Dark Knight, The\",\n",
      "          \"year\" : 2008,\n",
      "          \"genre\" : [\n",
      "            \"Action\",\n",
      "            \"Crime\",\n",
      "            \"Drama\",\n",
      "            \"IMAX\"\n",
      "          ]\n",
      "        }\n",
      "      },\n",
      "      {\n",
      "        \"_index\" : \"movies\",\n",
      "        \"_type\" : \"_doc\",\n",
      "        \"_id\" : \"1924\",\n",
      "        \"_score\" : 1.0,\n",
      "        \"_source\" : {\n",
      "          \"id\" : \"1924\",\n",
      "          \"title\" : \"Plan 9 from Outer Space\",\n",
      "          \"year\" : 1959,\n",
      "          \"genre\" : [\n",
      "            \"Horror\",\n",
      "            \"Sci-Fi\"\n",
      "          ]\n",
      "        }\n",
      "      },\n",
      "      {\n",
      "        \"_index\" : \"shakespeare\",\n",
      "        \"_type\" : \"_doc\",\n",
      "        \"_id\" : \"0\",\n",
      "        \"_score\" : 1.0,\n",
      "        \"_source\" : {\n",
      "          \"type\" : \"act\",\n",
      "          \"line_id\" : 1,\n",
      "          \"play_name\" : \"Henry IV\",\n",
      "          \"speech_number\" : \"\",\n",
      "          \"line_number\" : \"\",\n",
      "          \"speaker\" : \"\",\n",
      "          \"text_entry\" : \"ACT I\"\n",
      "        }\n",
      "      },\n",
      "      {\n",
      "        \"_index\" : \"shakespeare\",\n",
      "        \"_type\" : \"_doc\",\n",
      "        \"_id\" : \"1\",\n",
      "        \"_score\" : 1.0,\n",
      "        \"_source\" : {\n",
      "          \"type\" : \"scene\",\n",
      "          \"line_id\" : 2,\n",
      "          \"play_name\" : \"Henry IV\",\n",
      "          \"speech_number\" : \"\",\n",
      "          \"line_number\" : \"\",\n",
      "          \"speaker\" : \"\",\n",
      "          \"text_entry\" : \"SCENE I. London. The palace.\"\n",
      "        }\n",
      "      },\n",
      "      {\n",
      "        \"_index\" : \"shakespeare\",\n",
      "        \"_type\" : \"_doc\",\n",
      "        \"_id\" : \"2\",\n",
      "        \"_score\" : 1.0,\n",
      "        \"_source\" : {\n",
      "          \"type\" : \"line\",\n",
      "          \"line_id\" : 3,\n",
      "          \"play_name\" : \"Henry IV\",\n",
      "          \"speech_number\" : \"\",\n",
      "          \"line_number\" : \"\",\n",
      "          \"speaker\" : \"\",\n",
      "          \"text_entry\" : \"Enter KING HENRY, LORD JOHN OF LANCASTER, the EARL of WESTMORELAND, SIR WALTER BLUNT, and others\"\n",
      "        }\n",
      "      },\n",
      "      {\n",
      "        \"_index\" : \"shakespeare\",\n",
      "        \"_type\" : \"_doc\",\n",
      "        \"_id\" : \"3\",\n",
      "        \"_score\" : 1.0,\n",
      "        \"_source\" : {\n",
      "          \"type\" : \"line\",\n",
      "          \"line_id\" : 4,\n",
      "          \"play_name\" : \"Henry IV\",\n",
      "          \"speech_number\" : 1,\n",
      "          \"line_number\" : \"1.1.1\",\n",
      "          \"speaker\" : \"KING HENRY IV\",\n",
      "          \"text_entry\" : \"So shaken as we are, so wan with care,\"\n",
      "        }\n",
      "      },\n",
      "      {\n",
      "        \"_index\" : \"shakespeare\",\n",
      "        \"_type\" : \"_doc\",\n",
      "        \"_id\" : \"4\",\n",
      "        \"_score\" : 1.0,\n",
      "        \"_source\" : {\n",
      "          \"type\" : \"line\",\n",
      "          \"line_id\" : 5,\n",
      "          \"play_name\" : \"Henry IV\",\n",
      "          \"speech_number\" : 1,\n",
      "          \"line_number\" : \"1.1.2\",\n",
      "          \"speaker\" : \"KING HENRY IV\",\n",
      "          \"text_entry\" : \"Find we a time for frighted peace to pant,\"\n",
      "        }\n",
      "      }\n",
      "    ]\n",
      "  }\n",
      "}\n"
     ]
    }
   ],
   "source": [
    "#!curl -H \"Content-Type: application/json\" -XPUT 'ec2-13-59-84-109.us-east-2.compute.amazonaws.com:9200/_bulk?pretty' --data-binary @movies.json\n",
    "!curl -H \"Content-Type: application/json\" -XGET 'ec2-13-59-84-109.us-east-2.compute.amazonaws.com:9200/_search?pretty'"
   ]
  },
  {
   "cell_type": "markdown",
   "id": "848b4526-1f65-4516-976e-60ace94483f8",
   "metadata": {},
   "source": [
    "***\n",
    "### Updating Data in Elasticsearch \n",
    "#### Versions\n",
    "  * Every document has a _version field \n",
    "  * Elasticsearch documents are __immutable__ \n",
    "  * When you update an existing document: \n",
    "      * a new document is created with an incremented _version \n",
    "      * the old document is marked for deletion \n",
    "      \n",
    "#### Partial Update API\n",
    "    curl -H \"Content-Type: application/json\" -XPOST 127.0.0.1:9200/movies/_doc/109487/_update -d ' \n",
    "        { \n",
    "            \"doc\":{ \n",
    "                \"title\": \"Interstellar\" \n",
    "            } \n",
    "            }'"
   ]
  },
  {
   "cell_type": "code",
   "execution_count": 85,
   "id": "f3538d6b-17a6-4fe1-94c6-5ce97eb88c76",
   "metadata": {},
   "outputs": [
    {
     "name": "stdout",
     "output_type": "stream",
     "text": [
      "{\n",
      "  \"_index\" : \"movies\",\n",
      "  \"_type\" : \"_doc\",\n",
      "  \"_id\" : \"109487\",\n",
      "  \"_version\" : 3,\n",
      "  \"result\" : \"updated\",\n",
      "  \"_shards\" : {\n",
      "    \"total\" : 2,\n",
      "    \"successful\" : 1,\n",
      "    \"failed\" : 0\n",
      "  },\n",
      "  \"_seq_no\" : 6,\n",
      "  \"_primary_term\" : 1\n",
      "}\n"
     ]
    }
   ],
   "source": [
    "!curl -H \"Content-Type: application/json\" -XPUT  'ec2-13-59-84-109.us-east-2.compute.amazonaws.com:9200/movies/_doc/109487?pretty' -d '{\"genres\": [\"IMAX\", \"Sci-Fi\"], \"title\": \"Interstellar foo\",\"year\":2014}'"
   ]
  },
  {
   "cell_type": "code",
   "execution_count": 86,
   "id": "bd1a9e21-7c93-483b-b72d-73a3f321ed8d",
   "metadata": {},
   "outputs": [
    {
     "name": "stdout",
     "output_type": "stream",
     "text": [
      "{\n",
      "  \"_index\" : \"movies\",\n",
      "  \"_type\" : \"_doc\",\n",
      "  \"_id\" : \"109487\",\n",
      "  \"_version\" : 3,\n",
      "  \"_seq_no\" : 6,\n",
      "  \"_primary_term\" : 1,\n",
      "  \"found\" : true,\n",
      "  \"_source\" : {\n",
      "    \"genres\" : [\n",
      "      \"IMAX\",\n",
      "      \"Sci-Fi\"\n",
      "    ],\n",
      "    \"title\" : \"Interstellar foo\",\n",
      "    \"year\" : 2014\n",
      "  }\n",
      "}\n"
     ]
    }
   ],
   "source": [
    "!curl -H \"Content-Type: application/json\" -XGET 'ec2-13-59-84-109.us-east-2.compute.amazonaws.com:9200/movies/_doc/109487?pretty' "
   ]
  },
  {
   "cell_type": "code",
   "execution_count": 88,
   "id": "c576f760-f2b9-4f67-97ce-86a48d964e9b",
   "metadata": {},
   "outputs": [
    {
     "name": "stdout",
     "output_type": "stream",
     "text": [
      "{\"_index\":\"movies\",\"_type\":\"_doc\",\"_id\":\"109487\",\"_version\":4,\"result\":\"updated\",\"_shards\":{\"total\":2,\"successful\":1,\"failed\":0},\"_seq_no\":7,\"_primary_term\":1}"
     ]
    }
   ],
   "source": [
    "!curl -H \"Content-Type: application/json\" -XPOST  'ec2-13-59-84-109.us-east-2.compute.amazonaws.com:9200/movies/_doc/109487/_update' -d '{\"doc\": {\"title\": \"Interstellar\",\"year\":2014}}'"
   ]
  },
  {
   "cell_type": "code",
   "execution_count": 89,
   "id": "f34c969e-f8f0-4762-9ab6-80b096609268",
   "metadata": {},
   "outputs": [
    {
     "name": "stdout",
     "output_type": "stream",
     "text": [
      "{\n",
      "  \"_index\" : \"movies\",\n",
      "  \"_type\" : \"_doc\",\n",
      "  \"_id\" : \"109487\",\n",
      "  \"_version\" : 4,\n",
      "  \"_seq_no\" : 7,\n",
      "  \"_primary_term\" : 1,\n",
      "  \"found\" : true,\n",
      "  \"_source\" : {\n",
      "    \"genres\" : [\n",
      "      \"IMAX\",\n",
      "      \"Sci-Fi\"\n",
      "    ],\n",
      "    \"title\" : \"Interstellar\",\n",
      "    \"year\" : 2014\n",
      "  }\n",
      "}\n"
     ]
    }
   ],
   "source": [
    "!curl -H \"Content-Type: application/json\" -XGET 'ec2-13-59-84-109.us-east-2.compute.amazonaws.com:9200/movies/_doc/109487?pretty' "
   ]
  },
  {
   "cell_type": "markdown",
   "id": "3e2794da-3726-4fd4-8e71-287482004e74",
   "metadata": {},
   "source": [
    "***\n",
    "### Deleting Data in Elasticsearch\n",
    "    Just use the DELETE method:\n",
    "        curl -XDELETE 127.0.0.1:9200/movies/_doc/58559\n",
    "        \n",
    " "
   ]
  },
  {
   "cell_type": "code",
   "execution_count": 90,
   "id": "36f3cd0e-1d8e-4307-b218-939e2139330c",
   "metadata": {},
   "outputs": [
    {
     "name": "stdout",
     "output_type": "stream",
     "text": [
      "{\"took\":704,\"timed_out\":false,\"_shards\":{\"total\":1,\"successful\":1,\"skipped\":0,\"failed\":0},\"hits\":{\"total\":{\"value\":1,\"relation\":\"eq\"},\"max_score\":1.5169399,\"hits\":[{\"_index\":\"movies\",\"_type\":\"_doc\",\"_id\":\"58559\",\"_score\":1.5169399,\"_source\":{ \"id\": \"58559\", \"title\" : \"Dark Knight, The\", \"year\":2008 , \"genre\":[\"Action\", \"Crime\", \"Drama\", \"IMAX\"] }}]}}"
     ]
    }
   ],
   "source": [
    "!curl -H \"Content-Type: application/json\" -XGET 'ec2-13-59-84-109.us-east-2.compute.amazonaws.com:9200/movies/_search?q=Dark' "
   ]
  },
  {
   "cell_type": "code",
   "execution_count": 91,
   "id": "8407ffa3-f366-4313-929e-d0437e4a28bc",
   "metadata": {},
   "outputs": [
    {
     "name": "stdout",
     "output_type": "stream",
     "text": [
      "{\n",
      "  \"_index\" : \"movies\",\n",
      "  \"_type\" : \"_doc\",\n",
      "  \"_id\" : \"58559\",\n",
      "  \"_version\" : 2,\n",
      "  \"result\" : \"deleted\",\n",
      "  \"_shards\" : {\n",
      "    \"total\" : 2,\n",
      "    \"successful\" : 1,\n",
      "    \"failed\" : 0\n",
      "  },\n",
      "  \"_seq_no\" : 8,\n",
      "  \"_primary_term\" : 1\n",
      "}\n"
     ]
    }
   ],
   "source": [
    "!curl -H \"Content-Type: application/json\" -XDELETE 'ec2-13-59-84-109.us-east-2.compute.amazonaws.com:9200/movies/_doc/58559?pretty' "
   ]
  },
  {
   "cell_type": "code",
   "execution_count": 92,
   "id": "10c79c1d-b271-4355-93b7-ccecfaafbfe5",
   "metadata": {},
   "outputs": [
    {
     "name": "stdout",
     "output_type": "stream",
     "text": [
      "{\"took\":4,\"timed_out\":false,\"_shards\":{\"total\":1,\"successful\":1,\"skipped\":0,\"failed\":0},\"hits\":{\"total\":{\"value\":0,\"relation\":\"eq\"},\"max_score\":null,\"hits\":[]}}"
     ]
    }
   ],
   "source": [
    "!curl -H \"Content-Type: application/json\" -XGET 'ec2-13-59-84-109.us-east-2.compute.amazonaws.com:9200/movies/_search?q=Dark'"
   ]
  },
  {
   "cell_type": "markdown",
   "id": "32074b37-f35d-430c-b316-a77974a4ebe7",
   "metadata": {},
   "source": [
    "***\n",
    "### Summary of Insert/Update/Delete"
   ]
  },
  {
   "cell_type": "code",
   "execution_count": 93,
   "id": "e8624163-9feb-4866-95ab-66a32270b926",
   "metadata": {},
   "outputs": [
    {
     "name": "stdout",
     "output_type": "stream",
     "text": [
      "{\n",
      "  \"_index\" : \"movies\",\n",
      "  \"_type\" : \"_doc\",\n",
      "  \"_id\" : \"200000\",\n",
      "  \"_version\" : 1,\n",
      "  \"result\" : \"created\",\n",
      "  \"_shards\" : {\n",
      "    \"total\" : 2,\n",
      "    \"successful\" : 1,\n",
      "    \"failed\" : 0\n",
      "  },\n",
      "  \"_seq_no\" : 9,\n",
      "  \"_primary_term\" : 1\n",
      "}\n"
     ]
    }
   ],
   "source": [
    "!curl -H \"Content-Type: application/json\" -XPUT 'ec2-13-59-84-109.us-east-2.compute.amazonaws.com:9200/movies/_doc/200000?pretty' -d '{\"title\": \"Jons movie in Elastic\", \"genres\":[\"Documentary\"], \"year\": 2019}'"
   ]
  },
  {
   "cell_type": "code",
   "execution_count": 94,
   "id": "58930965-ee74-4811-aadf-73557781e0d9",
   "metadata": {},
   "outputs": [
    {
     "name": "stdout",
     "output_type": "stream",
     "text": [
      "{\n",
      "  \"_index\" : \"movies\",\n",
      "  \"_type\" : \"_doc\",\n",
      "  \"_id\" : \"200000\",\n",
      "  \"_version\" : 1,\n",
      "  \"_seq_no\" : 9,\n",
      "  \"_primary_term\" : 1,\n",
      "  \"found\" : true,\n",
      "  \"_source\" : {\n",
      "    \"title\" : \"Jons movie in Elastic\",\n",
      "    \"genres\" : [\n",
      "      \"Documentary\"\n",
      "    ],\n",
      "    \"year\" : 2019\n",
      "  }\n",
      "}\n"
     ]
    }
   ],
   "source": [
    "!curl -H \"Content-Type: application/json\" -XGET 'ec2-13-59-84-109.us-east-2.compute.amazonaws.com:9200/movies/_doc/200000?pretty'"
   ]
  },
  {
   "cell_type": "code",
   "execution_count": 95,
   "id": "065781c6-2530-47af-917e-83b82d33ab28",
   "metadata": {},
   "outputs": [
    {
     "name": "stdout",
     "output_type": "stream",
     "text": [
      "{\"_index\":\"movies\",\"_type\":\"_doc\",\"_id\":\"200000\",\"_version\":2,\"result\":\"updated\",\"_shards\":{\"total\":2,\"successful\":1,\"failed\":0},\"_seq_no\":10,\"_primary_term\":1}"
     ]
    }
   ],
   "source": [
    "!curl -H \"Content-Type: application/json\" -XPOST 'ec2-13-59-84-109.us-east-2.compute.amazonaws.com:9200/movies/_doc/200000/_update' -d '{\"doc\": {\"genres\":[\"Documentary\", \"Comedy\"]}}'"
   ]
  },
  {
   "cell_type": "code",
   "execution_count": 96,
   "id": "3c204e92-4fe9-46d0-b1fd-e3e9469c3103",
   "metadata": {},
   "outputs": [
    {
     "name": "stdout",
     "output_type": "stream",
     "text": [
      "{\n",
      "  \"_index\" : \"movies\",\n",
      "  \"_type\" : \"_doc\",\n",
      "  \"_id\" : \"200000\",\n",
      "  \"_version\" : 2,\n",
      "  \"_seq_no\" : 10,\n",
      "  \"_primary_term\" : 1,\n",
      "  \"found\" : true,\n",
      "  \"_source\" : {\n",
      "    \"title\" : \"Jons movie in Elastic\",\n",
      "    \"genres\" : [\n",
      "      \"Documentary\",\n",
      "      \"Comedy\"\n",
      "    ],\n",
      "    \"year\" : 2019\n",
      "  }\n",
      "}\n"
     ]
    }
   ],
   "source": [
    "!curl -H \"Content-Type: application/json\" -XGET 'ec2-13-59-84-109.us-east-2.compute.amazonaws.com:9200/movies/_doc/200000?pretty'"
   ]
  },
  {
   "cell_type": "code",
   "execution_count": 97,
   "id": "64513bf7-16e5-4c3d-a185-c696e9ee9e1a",
   "metadata": {},
   "outputs": [
    {
     "name": "stdout",
     "output_type": "stream",
     "text": [
      "{\n",
      "  \"_index\" : \"movies\",\n",
      "  \"_type\" : \"_doc\",\n",
      "  \"_id\" : \"200000\",\n",
      "  \"_version\" : 3,\n",
      "  \"result\" : \"deleted\",\n",
      "  \"_shards\" : {\n",
      "    \"total\" : 2,\n",
      "    \"successful\" : 1,\n",
      "    \"failed\" : 0\n",
      "  },\n",
      "  \"_seq_no\" : 11,\n",
      "  \"_primary_term\" : 1\n",
      "}\n"
     ]
    }
   ],
   "source": [
    "!curl -H \"Content-Type: application/json\" -XDELETE 'ec2-13-59-84-109.us-east-2.compute.amazonaws.com:9200/movies/_doc/200000?pretty'"
   ]
  },
  {
   "cell_type": "markdown",
   "id": "401be8e7-bf9c-4bec-acf6-62c6825a8e58",
   "metadata": {},
   "source": [
    "***\n",
    "### Dealing with Concurrency\n",
    "\n",
    "What happens when two different clients are trying to do the same thing at the same time?\n",
    "\n",
    "#### The Problem\n",
    "    2 different clients want to view count for page\n",
    "    both return 10\n",
    "    both increment at the same time to 11 - but it should have been 12 because two requests would have happened.   This can become a problem at larger scales\n",
    "    \n",
    "#### Solution - Optimistic Concurrency Control\n",
    "    2 different clients want to view count for page\n",
    "    both return 10 with _seq_no and _primary_term\n",
    "    Increment for _seq_no and _primary_term\n",
    "    First one gets 11, second one gets Error.\n",
    "    * Use retry_on_conflicts=N to automatically retry *"
   ]
  },
  {
   "cell_type": "code",
   "execution_count": 99,
   "id": "a6c05fbd-65e6-409f-a3aa-c906276e1e80",
   "metadata": {},
   "outputs": [
    {
     "name": "stdout",
     "output_type": "stream",
     "text": [
      "{\n",
      "  \"_index\" : \"movies\",\n",
      "  \"_type\" : \"_doc\",\n",
      "  \"_id\" : \"109487\",\n",
      "  \"_version\" : 4,\n",
      "  \"_seq_no\" : 7,\n",
      "  \"_primary_term\" : 1,\n",
      "  \"found\" : true,\n",
      "  \"_source\" : {\n",
      "    \"genres\" : [\n",
      "      \"IMAX\",\n",
      "      \"Sci-Fi\"\n",
      "    ],\n",
      "    \"title\" : \"Interstellar\",\n",
      "    \"year\" : 2014\n",
      "  }\n",
      "}\n"
     ]
    }
   ],
   "source": [
    "!curl -H \"Content-Type: application/json\" -XGET 'ec2-13-59-84-109.us-east-2.compute.amazonaws.com:9200/movies/_doc/109487?pretty'"
   ]
  },
  {
   "cell_type": "markdown",
   "id": "d0e21d9b-3f78-4422-b518-963a84a4d178",
   "metadata": {},
   "source": [
    "**We can restrict this update to a specific _seq_no**"
   ]
  },
  {
   "cell_type": "code",
   "execution_count": 100,
   "id": "b06bf023-7351-40c0-92bd-ca8495c64755",
   "metadata": {},
   "outputs": [
    {
     "name": "stdout",
     "output_type": "stream",
     "text": [
      "{\"_index\":\"movies\",\"_type\":\"_doc\",\"_id\":\"109487\",\"_version\":5,\"result\":\"updated\",\"_shards\":{\"total\":2,\"successful\":1,\"failed\":0},\"_seq_no\":12,\"_primary_term\":1}"
     ]
    }
   ],
   "source": [
    "!curl -H \"Content-Type: application/json\" -XPUT 'ec2-13-59-84-109.us-east-2.compute.amazonaws.com:9200/movies/_doc/109487?if_seq_no=7&if_primary_term=1' -d '{\"genres\": [\"IMAX\", \"Sci-Fi\"], \"title\": \"Interstellar foo\",\"year\":2014}'"
   ]
  },
  {
   "cell_type": "code",
   "execution_count": 101,
   "id": "54b4b5ce-2c84-4bca-8865-1e5b2df0b264",
   "metadata": {},
   "outputs": [
    {
     "name": "stdout",
     "output_type": "stream",
     "text": [
      "{\"error\":{\"root_cause\":[{\"type\":\"version_conflict_engine_exception\",\"reason\":\"[109487]: version conflict, required seqNo [7], primary term [1]. current document has seqNo [12] and primary term [1]\",\"index_uuid\":\"6caWD2OkRTCH1cZTXOhwng\",\"shard\":\"0\",\"index\":\"movies\"}],\"type\":\"version_conflict_engine_exception\",\"reason\":\"[109487]: version conflict, required seqNo [7], primary term [1]. current document has seqNo [12] and primary term [1]\",\"index_uuid\":\"6caWD2OkRTCH1cZTXOhwng\",\"shard\":\"0\",\"index\":\"movies\"},\"status\":409}"
     ]
    }
   ],
   "source": [
    "!curl -H \"Content-Type: application/json\" -XPUT 'ec2-13-59-84-109.us-east-2.compute.amazonaws.com:9200/movies/_doc/109487?if_seq_no=7&if_primary_term=1' -d '{\"genres\": [\"IMAX\", \"Sci-Fi\"], \"title\": \"Interstellar foo\",\"year\":2014}'"
   ]
  },
  {
   "cell_type": "markdown",
   "id": "dd1e9c4f-e3f3-41ce-8074-d757c270920c",
   "metadata": {},
   "source": [
    "**We get an error because the sequence number is no longer correct, so we update the _seq_no to 12**"
   ]
  },
  {
   "cell_type": "code",
   "execution_count": 102,
   "id": "c8987a3e-a7bc-43a2-84f3-b42cfa3ef56c",
   "metadata": {},
   "outputs": [
    {
     "name": "stdout",
     "output_type": "stream",
     "text": [
      "{\"_index\":\"movies\",\"_type\":\"_doc\",\"_id\":\"109487\",\"_version\":6,\"result\":\"updated\",\"_shards\":{\"total\":2,\"successful\":1,\"failed\":0},\"_seq_no\":13,\"_primary_term\":1}"
     ]
    }
   ],
   "source": [
    "!curl -H \"Content-Type: application/json\" -XPUT 'ec2-13-59-84-109.us-east-2.compute.amazonaws.com:9200/movies/_doc/109487?if_seq_no=12&if_primary_term=1' -d '{\"genres\": [\"IMAX\", \"Sci-Fi\"], \"title\": \"Interstellar foo\",\"year\":2014}'"
   ]
  },
  {
   "cell_type": "code",
   "execution_count": 113,
   "id": "7f646388-fc01-4c4d-a863-423999774f25",
   "metadata": {},
   "outputs": [
    {
     "name": "stdout",
     "output_type": "stream",
     "text": [
      "{\"error\":{\"root_cause\":[{\"type\":\"illegal_argument_exception\",\"reason\":\"request [/movies/_doc/109487] contains unrecognized parameter: [_update?retry_on_conflict]\"}],\"type\":\"illegal_argument_exception\",\"reason\":\"request [/movies/_doc/109487] contains unrecognized parameter: [_update?retry_on_conflict]\"},\"status\":400}"
     ]
    }
   ],
   "source": [
    "!curl -H \"Content-Type: application/json\" -XPOST 'ec2-13-59-84-109.us-east-2.compute.amazonaws.com:9200/movies/_doc/109487?_update?retry_on_conflict=5' -d '{\"doc\": {\"title\": \"Interstellar typo\"}}'"
   ]
  },
  {
   "cell_type": "code",
   "execution_count": 110,
   "id": "bad30bb7-4695-482c-b64c-508223db471e",
   "metadata": {},
   "outputs": [
    {
     "name": "stdout",
     "output_type": "stream",
     "text": [
      "{\n",
      "  \"_index\" : \"movies\",\n",
      "  \"_type\" : \"_doc\",\n",
      "  \"_id\" : \"109487\",\n",
      "  \"_version\" : 6,\n",
      "  \"_seq_no\" : 13,\n",
      "  \"_primary_term\" : 1,\n",
      "  \"found\" : true,\n",
      "  \"_source\" : {\n",
      "    \"genres\" : [\n",
      "      \"IMAX\",\n",
      "      \"Sci-Fi\"\n",
      "    ],\n",
      "    \"title\" : \"Interstellar foo\",\n",
      "    \"year\" : 2014\n",
      "  }\n",
      "}\n"
     ]
    }
   ],
   "source": [
    "!curl -H \"Content-Type: application/json\" -XGET 'ec2-13-59-84-109.us-east-2.compute.amazonaws.com:9200/movies/_doc/109487?pretty'"
   ]
  },
  {
   "cell_type": "markdown",
   "id": "eea1251a-8f6b-4272-9190-6c600b3c4d4b",
   "metadata": {},
   "source": [
    "***\n",
    "### Using Analyzers and Tokenizers\n",
    "#### Controlling Full-Text Search\n",
    "#### Using Analyzers\n",
    "    Sometimes text fields should be exact-match\n",
    "    * Use keyword mapping instead of text\n",
    "    \n",
    "    Search on analyzed text fields will return anything remotely relevant\n",
    "    * Depending on the analyzer, results will be case-insensitive, stemmed, stopwords removed, synonyms applied, etc.\n",
    "    * Searches with multiple terms need not match them all\n",
    "    \n",
    "    "
   ]
  },
  {
   "cell_type": "code",
   "execution_count": 114,
   "id": "927e807d-bd91-4e97-9f55-54b01b690767",
   "metadata": {},
   "outputs": [
    {
     "name": "stdout",
     "output_type": "stream",
     "text": [
      "{\n",
      "  \"took\" : 28,\n",
      "  \"timed_out\" : false,\n",
      "  \"_shards\" : {\n",
      "    \"total\" : 2,\n",
      "    \"successful\" : 2,\n",
      "    \"skipped\" : 0,\n",
      "    \"failed\" : 0\n",
      "  },\n",
      "  \"hits\" : {\n",
      "    \"total\" : {\n",
      "      \"value\" : 2,\n",
      "      \"relation\" : \"eq\"\n",
      "    },\n",
      "    \"max_score\" : 2.1566045,\n",
      "    \"hits\" : [\n",
      "      {\n",
      "        \"_index\" : \"movies\",\n",
      "        \"_type\" : \"_doc\",\n",
      "        \"_id\" : \"135569\",\n",
      "        \"_score\" : 2.1566045,\n",
      "        \"_source\" : {\n",
      "          \"id\" : \"135569\",\n",
      "          \"title\" : \"Star Trek Beyond\",\n",
      "          \"year\" : 2016,\n",
      "          \"genre\" : [\n",
      "            \"Action\",\n",
      "            \"Adventure\",\n",
      "            \"Sci-Fi\"\n",
      "          ]\n",
      "        }\n",
      "      },\n",
      "      {\n",
      "        \"_index\" : \"movies\",\n",
      "        \"_type\" : \"_doc\",\n",
      "        \"_id\" : \"122886\",\n",
      "        \"_score\" : 0.5480699,\n",
      "        \"_source\" : {\n",
      "          \"id\" : \"122886\",\n",
      "          \"title\" : \"Star Wars: Episode VII - The Force Awakens\",\n",
      "          \"year\" : 2015,\n",
      "          \"genre\" : [\n",
      "            \"Action\",\n",
      "            \"Adventure\",\n",
      "            \"Fantasy\",\n",
      "            \"Sci-Fi\",\n",
      "            \"IMAX\"\n",
      "          ]\n",
      "        }\n",
      "      }\n",
      "    ]\n",
      "  }\n",
      "}\n"
     ]
    }
   ],
   "source": [
    "!curl -H \"Content-Type: application/json\" -XGET 'ec2-13-59-84-109.us-east-2.compute.amazonaws.com:9200/_search?pretty' -d '{\"query\":{\"match\":{\"title\": \"Star Trek\"}}}'"
   ]
  },
  {
   "cell_type": "markdown",
   "id": "007c0fa5-a0ce-4cc2-8303-c5a34f414cf1",
   "metadata": {},
   "source": [
    "**Partial matches for this search - but match score was <1 for Star Wars**"
   ]
  },
  {
   "cell_type": "code",
   "execution_count": 115,
   "id": "b8e94772-bdc3-49f4-a55b-961820bf53a5",
   "metadata": {},
   "outputs": [
    {
     "name": "stdout",
     "output_type": "stream",
     "text": [
      "{\n",
      "  \"took\" : 2,\n",
      "  \"timed_out\" : false,\n",
      "  \"_shards\" : {\n",
      "    \"total\" : 1,\n",
      "    \"successful\" : 1,\n",
      "    \"skipped\" : 0,\n",
      "    \"failed\" : 0\n",
      "  },\n",
      "  \"hits\" : {\n",
      "    \"total\" : {\n",
      "      \"value\" : 3,\n",
      "      \"relation\" : \"eq\"\n",
      "    },\n",
      "    \"max_score\" : 0.15275992,\n",
      "    \"hits\" : [\n",
      "      {\n",
      "        \"_index\" : \"movies\",\n",
      "        \"_type\" : \"_doc\",\n",
      "        \"_id\" : \"1924\",\n",
      "        \"_score\" : 0.15275992,\n",
      "        \"_source\" : {\n",
      "          \"id\" : \"1924\",\n",
      "          \"title\" : \"Plan 9 from Outer Space\",\n",
      "          \"year\" : 1959,\n",
      "          \"genre\" : [\n",
      "            \"Horror\",\n",
      "            \"Sci-Fi\"\n",
      "          ]\n",
      "        }\n",
      "      },\n",
      "      {\n",
      "        \"_index\" : \"movies\",\n",
      "        \"_type\" : \"_doc\",\n",
      "        \"_id\" : \"135569\",\n",
      "        \"_score\" : 0.13786995,\n",
      "        \"_source\" : {\n",
      "          \"id\" : \"135569\",\n",
      "          \"title\" : \"Star Trek Beyond\",\n",
      "          \"year\" : 2016,\n",
      "          \"genre\" : [\n",
      "            \"Action\",\n",
      "            \"Adventure\",\n",
      "            \"Sci-Fi\"\n",
      "          ]\n",
      "        }\n",
      "      },\n",
      "      {\n",
      "        \"_index\" : \"movies\",\n",
      "        \"_type\" : \"_doc\",\n",
      "        \"_id\" : \"122886\",\n",
      "        \"_score\" : 0.115377575,\n",
      "        \"_source\" : {\n",
      "          \"id\" : \"122886\",\n",
      "          \"title\" : \"Star Wars: Episode VII - The Force Awakens\",\n",
      "          \"year\" : 2015,\n",
      "          \"genre\" : [\n",
      "            \"Action\",\n",
      "            \"Adventure\",\n",
      "            \"Fantasy\",\n",
      "            \"Sci-Fi\",\n",
      "            \"IMAX\"\n",
      "          ]\n",
      "        }\n",
      "      }\n",
      "    ]\n",
      "  }\n",
      "}\n"
     ]
    }
   ],
   "source": [
    "!curl -H \"Content-Type: application/json\" -XGET 'ec2-13-59-84-109.us-east-2.compute.amazonaws.com:9200/movies/_search?pretty' -d '{\"query\":{\"match_phrase\": {\"genre\": \"sci\"}}}'"
   ]
  },
  {
   "cell_type": "code",
   "execution_count": 116,
   "id": "a60422a9-79ae-40cb-92e6-5f04eec68ad2",
   "metadata": {},
   "outputs": [
    {
     "name": "stdout",
     "output_type": "stream",
     "text": [
      "{\"acknowledged\":true}"
     ]
    }
   ],
   "source": [
    "!curl -H \"Content-Type: application/json\" -XDELETE 'ec2-13-59-84-109.us-east-2.compute.amazonaws.com:9200/movies'"
   ]
  },
  {
   "cell_type": "code",
   "execution_count": 117,
   "id": "893b5d22-7769-4274-8010-e0e72f79700d",
   "metadata": {},
   "outputs": [
    {
     "name": "stdout",
     "output_type": "stream",
     "text": [
      "{\"acknowledged\":true,\"shards_acknowledged\":true,\"index\":\"movies\"}"
     ]
    }
   ],
   "source": [
    "!curl -H \"Content-Type: application/json\" -XPUT 'ec2-13-59-84-109.us-east-2.compute.amazonaws.com:9200/movies/' -d '{\"mappings\": {\"properties\": {\"id\": {\"type\": \"integer\"}, \"year\":{\"type\": \"date\"}, \"genre\":{\"type\":\"keyword\"}, \"title\": {\"type\": \"text\", \"analyzer\":\"english\"}}}}'"
   ]
  },
  {
   "cell_type": "code",
   "execution_count": 119,
   "id": "408af19a-396e-4404-bba0-c14ff6c30184",
   "metadata": {},
   "outputs": [],
   "source": [
    "#!curl -H \"Content-Type: application/json\" -XPUT 'ec2-13-59-84-109.us-east-2.compute.amazonaws.com:9200/_bulk?pretty' --data-binary '@movies.json'"
   ]
  },
  {
   "cell_type": "code",
   "execution_count": 120,
   "id": "d8f7bfd7-b35e-4f61-8ec3-87c1dc229757",
   "metadata": {},
   "outputs": [
    {
     "name": "stdout",
     "output_type": "stream",
     "text": [
      "{\n",
      "  \"took\" : 761,\n",
      "  \"timed_out\" : false,\n",
      "  \"_shards\" : {\n",
      "    \"total\" : 1,\n",
      "    \"successful\" : 1,\n",
      "    \"skipped\" : 0,\n",
      "    \"failed\" : 0\n",
      "  },\n",
      "  \"hits\" : {\n",
      "    \"total\" : {\n",
      "      \"value\" : 0,\n",
      "      \"relation\" : \"eq\"\n",
      "    },\n",
      "    \"max_score\" : null,\n",
      "    \"hits\" : [ ]\n",
      "  }\n",
      "}\n"
     ]
    }
   ],
   "source": [
    "!curl -H \"Content-Type: application/json\" -XGET 'ec2-13-59-84-109.us-east-2.compute.amazonaws.com:9200/movies/_search?pretty' -d '{\"query\":{\"match_phrase\": {\"genre\": \"sci\"}}}'"
   ]
  },
  {
   "cell_type": "markdown",
   "id": "f2f8c52d-2c1e-4a26-b9c2-b44ac683524d",
   "metadata": {},
   "source": [
    "**No longer analyzed so it doesn't work, must be an EXACT MATCH now**"
   ]
  },
  {
   "cell_type": "code",
   "execution_count": 121,
   "id": "8d75c6ad-ba67-4b58-9430-39e3afbd413d",
   "metadata": {},
   "outputs": [
    {
     "name": "stdout",
     "output_type": "stream",
     "text": [
      "{\n",
      "  \"took\" : 1,\n",
      "  \"timed_out\" : false,\n",
      "  \"_shards\" : {\n",
      "    \"total\" : 1,\n",
      "    \"successful\" : 1,\n",
      "    \"skipped\" : 0,\n",
      "    \"failed\" : 0\n",
      "  },\n",
      "  \"hits\" : {\n",
      "    \"total\" : {\n",
      "      \"value\" : 4,\n",
      "      \"relation\" : \"eq\"\n",
      "    },\n",
      "    \"max_score\" : 0.40025333,\n",
      "    \"hits\" : [\n",
      "      {\n",
      "        \"_index\" : \"movies\",\n",
      "        \"_type\" : \"_doc\",\n",
      "        \"_id\" : \"135569\",\n",
      "        \"_score\" : 0.40025333,\n",
      "        \"_source\" : {\n",
      "          \"id\" : \"135569\",\n",
      "          \"title\" : \"Star Trek Beyond\",\n",
      "          \"year\" : 2016,\n",
      "          \"genre\" : [\n",
      "            \"Action\",\n",
      "            \"Adventure\",\n",
      "            \"Sci-Fi\"\n",
      "          ]\n",
      "        }\n",
      "      },\n",
      "      {\n",
      "        \"_index\" : \"movies\",\n",
      "        \"_type\" : \"_doc\",\n",
      "        \"_id\" : \"122886\",\n",
      "        \"_score\" : 0.40025333,\n",
      "        \"_source\" : {\n",
      "          \"id\" : \"122886\",\n",
      "          \"title\" : \"Star Wars: Episode VII - The Force Awakens\",\n",
      "          \"year\" : 2015,\n",
      "          \"genre\" : [\n",
      "            \"Action\",\n",
      "            \"Adventure\",\n",
      "            \"Fantasy\",\n",
      "            \"Sci-Fi\",\n",
      "            \"IMAX\"\n",
      "          ]\n",
      "        }\n",
      "      },\n",
      "      {\n",
      "        \"_index\" : \"movies\",\n",
      "        \"_type\" : \"_doc\",\n",
      "        \"_id\" : \"109487\",\n",
      "        \"_score\" : 0.40025333,\n",
      "        \"_source\" : {\n",
      "          \"id\" : \"109487\",\n",
      "          \"title\" : \"Interstellar\",\n",
      "          \"year\" : 2014,\n",
      "          \"genre\" : [\n",
      "            \"Sci-Fi\",\n",
      "            \"IMAX\"\n",
      "          ]\n",
      "        }\n",
      "      },\n",
      "      {\n",
      "        \"_index\" : \"movies\",\n",
      "        \"_type\" : \"_doc\",\n",
      "        \"_id\" : \"1924\",\n",
      "        \"_score\" : 0.40025333,\n",
      "        \"_source\" : {\n",
      "          \"id\" : \"1924\",\n",
      "          \"title\" : \"Plan 9 from Outer Space\",\n",
      "          \"year\" : 1959,\n",
      "          \"genre\" : [\n",
      "            \"Horror\",\n",
      "            \"Sci-Fi\"\n",
      "          ]\n",
      "        }\n",
      "      }\n",
      "    ]\n",
      "  }\n",
      "}\n"
     ]
    }
   ],
   "source": [
    "!curl -H \"Content-Type: application/json\" -XGET 'ec2-13-59-84-109.us-east-2.compute.amazonaws.com:9200/movies/_search?pretty' -d '{\"query\":{\"match_phrase\": {\"genre\": \"Sci-Fi\"}}}'"
   ]
  },
  {
   "cell_type": "code",
   "execution_count": 122,
   "id": "49f5e9b6-912f-4c1a-a7b1-5e3b14e09b7b",
   "metadata": {},
   "outputs": [
    {
     "name": "stdout",
     "output_type": "stream",
     "text": [
      "{\n",
      "  \"took\" : 2,\n",
      "  \"timed_out\" : false,\n",
      "  \"_shards\" : {\n",
      "    \"total\" : 1,\n",
      "    \"successful\" : 1,\n",
      "    \"skipped\" : 0,\n",
      "    \"failed\" : 0\n",
      "  },\n",
      "  \"hits\" : {\n",
      "    \"total\" : {\n",
      "      \"value\" : 1,\n",
      "      \"relation\" : \"eq\"\n",
      "    },\n",
      "    \"max_score\" : 1.7228093,\n",
      "    \"hits\" : [\n",
      "      {\n",
      "        \"_index\" : \"movies\",\n",
      "        \"_type\" : \"_doc\",\n",
      "        \"_id\" : \"122886\",\n",
      "        \"_score\" : 1.7228093,\n",
      "        \"_source\" : {\n",
      "          \"id\" : \"122886\",\n",
      "          \"title\" : \"Star Wars: Episode VII - The Force Awakens\",\n",
      "          \"year\" : 2015,\n",
      "          \"genre\" : [\n",
      "            \"Action\",\n",
      "            \"Adventure\",\n",
      "            \"Fantasy\",\n",
      "            \"Sci-Fi\",\n",
      "            \"IMAX\"\n",
      "          ]\n",
      "        }\n",
      "      }\n",
      "    ]\n",
      "  }\n",
      "}\n"
     ]
    }
   ],
   "source": [
    "!curl -H \"Content-Type: application/json\" -XGET 'ec2-13-59-84-109.us-east-2.compute.amazonaws.com:9200/movies/_search?pretty' -d '{\"query\":{\"match_phrase\": {\"title\": \"star wars\"}}}'"
   ]
  },
  {
   "cell_type": "markdown",
   "id": "46180592-9d13-47c9-9467-3c11cf33f240",
   "metadata": {},
   "source": [
    "***\n",
    "### Strategies For Relational Data\n",
    "\n",
    "#### Normalized data\n",
    "* Look up rating $\\rightarrow$ Rating (userID, movieID, rating) $\\rightarrow$ Look up title $\\rightarrow$ Movie (movieID, title, genres)\n",
    "    * Minimizes storage space, makes it easy to change titles\n",
    "    * But requires two queries, and storage is cheap! \n",
    "\n",
    "Do I want the abilitly to easily change the data?   Can I handle the delayed traffic from the additional hops?   This will take multiple transations\n",
    "\n",
    "#### Denormalized Data\n",
    "* Look up rating $\\rightarrow$ Rating (userID, rating, title)\n",
    "    * Titles are duplicated, but only one query"
   ]
  },
  {
   "cell_type": "code",
   "execution_count": 1,
   "id": "2954431a-de26-46d8-896a-ddfa883ff978",
   "metadata": {},
   "outputs": [
    {
     "name": "stdout",
     "output_type": "stream",
     "text": [
      "{\"acknowledged\":true,\"shards_acknowledged\":true,\"index\":\"series\"}"
     ]
    }
   ],
   "source": [
    "!curl -H \"Content-Type: application/json\" -XPUT 'ec2-13-59-84-109.us-east-2.compute.amazonaws.com:9200/series' -d '{\"mappings\": {\"properties\": {\"film_to_franchise\": { \"type\": \"join\", \"relations\": {\"franchise\": \"film\"}}}}}'"
   ]
  },
  {
   "cell_type": "code",
   "execution_count": 4,
   "id": "94d8427e-a045-4536-a76b-8787ea5ec392",
   "metadata": {},
   "outputs": [],
   "source": [
    "#!curl -H \"Content-Type: application/json\" -XPUT 'ec2-13-59-84-109.us-east-2.compute.amazonaws.com:9200/_bulk?pretty' --data-binary @series.json"
   ]
  },
  {
   "cell_type": "markdown",
   "id": "2b46ed04-ef77-4110-bf65-83de6d832e98",
   "metadata": {},
   "source": [
    "***\n",
    "#### Search for Children of Franchise Parent"
   ]
  },
  {
   "cell_type": "code",
   "execution_count": 10,
   "id": "ae5f72b8-2326-40e6-a9ac-908a8627afac",
   "metadata": {},
   "outputs": [
    {
     "name": "stdout",
     "output_type": "stream",
     "text": [
      "{\n",
      "  \"took\" : 872,\n",
      "  \"timed_out\" : false,\n",
      "  \"_shards\" : {\n",
      "    \"total\" : 1,\n",
      "    \"successful\" : 1,\n",
      "    \"skipped\" : 0,\n",
      "    \"failed\" : 0\n",
      "  },\n",
      "  \"hits\" : {\n",
      "    \"total\" : {\n",
      "      \"value\" : 7,\n",
      "      \"relation\" : \"eq\"\n",
      "    },\n",
      "    \"max_score\" : 1.0,\n",
      "    \"hits\" : [\n",
      "      {\n",
      "        \"_index\" : \"series\",\n",
      "        \"_type\" : \"_doc\",\n",
      "        \"_id\" : \"260\",\n",
      "        \"_score\" : 1.0,\n",
      "        \"_routing\" : \"1\",\n",
      "        \"_source\" : {\n",
      "          \"id\" : \"260\",\n",
      "          \"film_to_franchise\" : {\n",
      "            \"name\" : \"film\",\n",
      "            \"parent\" : \"1\"\n",
      "          },\n",
      "          \"title\" : \"Star Wars: Episode IV - A New Hope\",\n",
      "          \"year\" : \"1977\",\n",
      "          \"genre\" : [\n",
      "            \"Action\",\n",
      "            \"Adventure\",\n",
      "            \"Sci-Fi\"\n",
      "          ]\n",
      "        }\n",
      "      },\n",
      "      {\n",
      "        \"_index\" : \"series\",\n",
      "        \"_type\" : \"_doc\",\n",
      "        \"_id\" : \"1196\",\n",
      "        \"_score\" : 1.0,\n",
      "        \"_routing\" : \"1\",\n",
      "        \"_source\" : {\n",
      "          \"id\" : \"1196\",\n",
      "          \"film_to_franchise\" : {\n",
      "            \"name\" : \"film\",\n",
      "            \"parent\" : \"1\"\n",
      "          },\n",
      "          \"title\" : \"Star Wars: Episode V - The Empire Strikes Back\",\n",
      "          \"year\" : \"1980\",\n",
      "          \"genre\" : [\n",
      "            \"Action\",\n",
      "            \"Adventure\",\n",
      "            \"Sci-Fi\"\n",
      "          ]\n",
      "        }\n",
      "      },\n",
      "      {\n",
      "        \"_index\" : \"series\",\n",
      "        \"_type\" : \"_doc\",\n",
      "        \"_id\" : \"1210\",\n",
      "        \"_score\" : 1.0,\n",
      "        \"_routing\" : \"1\",\n",
      "        \"_source\" : {\n",
      "          \"id\" : \"1210\",\n",
      "          \"film_to_franchise\" : {\n",
      "            \"name\" : \"film\",\n",
      "            \"parent\" : \"1\"\n",
      "          },\n",
      "          \"title\" : \"Star Wars: Episode VI - Return of the Jedi\",\n",
      "          \"year\" : \"1983\",\n",
      "          \"genre\" : [\n",
      "            \"Action\",\n",
      "            \"Adventure\",\n",
      "            \"Sci-Fi\"\n",
      "          ]\n",
      "        }\n",
      "      },\n",
      "      {\n",
      "        \"_index\" : \"series\",\n",
      "        \"_type\" : \"_doc\",\n",
      "        \"_id\" : \"2628\",\n",
      "        \"_score\" : 1.0,\n",
      "        \"_routing\" : \"1\",\n",
      "        \"_source\" : {\n",
      "          \"id\" : \"2628\",\n",
      "          \"film_to_franchise\" : {\n",
      "            \"name\" : \"film\",\n",
      "            \"parent\" : \"1\"\n",
      "          },\n",
      "          \"title\" : \"Star Wars: Episode I - The Phantom Menace\",\n",
      "          \"year\" : \"1999\",\n",
      "          \"genre\" : [\n",
      "            \"Action\",\n",
      "            \"Adventure\",\n",
      "            \"Sci-Fi\"\n",
      "          ]\n",
      "        }\n",
      "      },\n",
      "      {\n",
      "        \"_index\" : \"series\",\n",
      "        \"_type\" : \"_doc\",\n",
      "        \"_id\" : \"5378\",\n",
      "        \"_score\" : 1.0,\n",
      "        \"_routing\" : \"1\",\n",
      "        \"_source\" : {\n",
      "          \"id\" : \"5378\",\n",
      "          \"film_to_franchise\" : {\n",
      "            \"name\" : \"film\",\n",
      "            \"parent\" : \"1\"\n",
      "          },\n",
      "          \"title\" : \"Star Wars: Episode II - Attack of the Clones\",\n",
      "          \"year\" : \"2002\",\n",
      "          \"genre\" : [\n",
      "            \"Action\",\n",
      "            \"Adventure\",\n",
      "            \"Sci-Fi\",\n",
      "            \"IMAX\"\n",
      "          ]\n",
      "        }\n",
      "      },\n",
      "      {\n",
      "        \"_index\" : \"series\",\n",
      "        \"_type\" : \"_doc\",\n",
      "        \"_id\" : \"33493\",\n",
      "        \"_score\" : 1.0,\n",
      "        \"_routing\" : \"1\",\n",
      "        \"_source\" : {\n",
      "          \"id\" : \"33493\",\n",
      "          \"film_to_franchise\" : {\n",
      "            \"name\" : \"film\",\n",
      "            \"parent\" : \"1\"\n",
      "          },\n",
      "          \"title\" : \"Star Wars: Episode III - Revenge of the Sith\",\n",
      "          \"year\" : \"2005\",\n",
      "          \"genre\" : [\n",
      "            \"Action\",\n",
      "            \"Adventure\",\n",
      "            \"Sci-Fi\"\n",
      "          ]\n",
      "        }\n",
      "      },\n",
      "      {\n",
      "        \"_index\" : \"series\",\n",
      "        \"_type\" : \"_doc\",\n",
      "        \"_id\" : \"122886\",\n",
      "        \"_score\" : 1.0,\n",
      "        \"_routing\" : \"1\",\n",
      "        \"_source\" : {\n",
      "          \"id\" : \"122886\",\n",
      "          \"film_to_franchise\" : {\n",
      "            \"name\" : \"film\",\n",
      "            \"parent\" : \"1\"\n",
      "          },\n",
      "          \"title\" : \"Star Wars: Episode VII - The Force Awakens\",\n",
      "          \"year\" : \"2015\",\n",
      "          \"genre\" : [\n",
      "            \"Action\",\n",
      "            \"Adventure\",\n",
      "            \"Fantasy\",\n",
      "            \"Sci-Fi\",\n",
      "            \"IMAX\"\n",
      "          ]\n",
      "        }\n",
      "      }\n",
      "    ]\n",
      "  }\n",
      "}\n"
     ]
    }
   ],
   "source": [
    "!curl -H \"Content-Type: application/json\" -XGET 'ec2-13-59-84-109.us-east-2.compute.amazonaws.com:9200/series/_search?pretty' -d '{\"query\": { \"has_parent\": {\"parent_type\": \"franchise\", \"query\": { \"match\": { \"title\": \"Star Wars\"}}}}}' "
   ]
  },
  {
   "cell_type": "markdown",
   "id": "7da495f8-aa7f-4e40-a030-777932718d09",
   "metadata": {},
   "source": [
    "***\n",
    "#### Search for a Child to find franchise associated with film title"
   ]
  },
  {
   "cell_type": "code",
   "execution_count": 11,
   "id": "f11e8721-2aa0-4982-bd38-19cfa7d2c3a0",
   "metadata": {},
   "outputs": [
    {
     "name": "stdout",
     "output_type": "stream",
     "text": [
      "{\n",
      "  \"took\" : 2,\n",
      "  \"timed_out\" : false,\n",
      "  \"_shards\" : {\n",
      "    \"total\" : 1,\n",
      "    \"successful\" : 1,\n",
      "    \"skipped\" : 0,\n",
      "    \"failed\" : 0\n",
      "  },\n",
      "  \"hits\" : {\n",
      "    \"total\" : {\n",
      "      \"value\" : 1,\n",
      "      \"relation\" : \"eq\"\n",
      "    },\n",
      "    \"max_score\" : 1.0,\n",
      "    \"hits\" : [\n",
      "      {\n",
      "        \"_index\" : \"series\",\n",
      "        \"_type\" : \"_doc\",\n",
      "        \"_id\" : \"1\",\n",
      "        \"_score\" : 1.0,\n",
      "        \"_routing\" : \"1\",\n",
      "        \"_source\" : {\n",
      "          \"id\" : \"1\",\n",
      "          \"film_to_franchise\" : {\n",
      "            \"name\" : \"franchise\"\n",
      "          },\n",
      "          \"title\" : \"Star Wars\"\n",
      "        }\n",
      "      }\n",
      "    ]\n",
      "  }\n",
      "}\n"
     ]
    }
   ],
   "source": [
    "!curl -H \"Content-Type: application/json\" -XGET 'ec2-13-59-84-109.us-east-2.compute.amazonaws.com:9200/series/_search?pretty' -d '{\"query\": { \"has_child\": {\"type\": \"film\", \"query\": { \"match\": { \"title\": \"The Force Awakens\"}}}}}'"
   ]
  },
  {
   "cell_type": "markdown",
   "id": "2deb574c-8e0e-4ebf-9b63-c2dbc8ab61f8",
   "metadata": {},
   "source": [
    "***\n",
    "### Flattened Datatype\n",
    "#### Mapping Explosions\n",
    "    If we need to handle documents with many inner fields, performance can start to suffer due to dynamic mapping.  \n",
    "    To avoid mapping explosion, we should use flattened data type.\n",
    "    \n",
    "    Example Log\n",
    "    {\n",
    "        \"@timestamp\": \"2020-03-09T\"\n",
    "        \"message\": \"[5555:1:000/11111.1111\",\n",
    "        \"fileset\": {\n",
    "            \"name\": \"syslog\"\n",
    "        },\n",
    "        \"process\": {\n",
    "            \"name\": \"org.gnome.Shell.desktop\",\n",
    "            \"pid\":3383\n",
    "        },\n",
    "        \"host\": {\n",
    "            \"hostname\": \"bionic\",\n",
    "            \"name\": bionic\"\n",
    "        }\n",
    "    }\n",
    "    \n",
    "    Second Example Log - with new inner fields\n",
    "        {\n",
    "            \"@timestamp\": \"2020-03-09T\"\n",
    "            \"message\": \"[5555:1:000/11111.1111\",\n",
    "            \"fileset\": {\n",
    "                \"name\": \"syslog\"\n",
    "            },\n",
    "            \"process\": {\n",
    "                \"name\": \"org.gnome.Shell.desktop\",\n",
    "                \"pid\":3383\n",
    "            },\n",
    "            \"host\": {\n",
    "                \"hostname\": \"bionic\",\n",
    "                \"name\": bionic\"\n",
    "                \"osArchitecture\": \"x86_64\",\n",
    "                \"osVersion\": \"Bionic Beaver\"\n",
    "            }\n",
    "        }\n"
   ]
  },
  {
   "cell_type": "code",
   "execution_count": 19,
   "id": "957cdded-6910-4180-9dff-409273dcd7dc",
   "metadata": {},
   "outputs": [
    {
     "name": "stdout",
     "output_type": "stream",
     "text": [
      "{\n",
      "  \"demo-default\" : {\n",
      "    \"mappings\" : {\n",
      "      \"properties\" : {\n",
      "        \"@timestamp\" : {\n",
      "          \"type\" : \"date\"\n",
      "        },\n",
      "        \"fileset\" : {\n",
      "          \"properties\" : {\n",
      "            \"name\" : {\n",
      "              \"type\" : \"text\",\n",
      "              \"fields\" : {\n",
      "                \"keyword\" : {\n",
      "                  \"type\" : \"keyword\",\n",
      "                  \"ignore_above\" : 256\n",
      "                }\n",
      "              }\n",
      "            }\n",
      "          }\n",
      "        },\n",
      "        \"host\" : {\n",
      "          \"properties\" : {\n",
      "            \"hostname\" : {\n",
      "              \"type\" : \"text\",\n",
      "              \"fields\" : {\n",
      "                \"keyword\" : {\n",
      "                  \"type\" : \"keyword\",\n",
      "                  \"ignore_above\" : 256\n",
      "                }\n",
      "              }\n",
      "            },\n",
      "            \"name\" : {\n",
      "              \"type\" : \"text\",\n",
      "              \"fields\" : {\n",
      "                \"keyword\" : {\n",
      "                  \"type\" : \"keyword\",\n",
      "                  \"ignore_above\" : 256\n",
      "                }\n",
      "              }\n",
      "            }\n",
      "          }\n",
      "        },\n",
      "        \"message\" : {\n",
      "          \"type\" : \"text\",\n",
      "          \"fields\" : {\n",
      "            \"keyword\" : {\n",
      "              \"type\" : \"keyword\",\n",
      "              \"ignore_above\" : 256\n",
      "            }\n",
      "          }\n",
      "        },\n",
      "        \"process\" : {\n",
      "          \"properties\" : {\n",
      "            \"name\" : {\n",
      "              \"type\" : \"text\",\n",
      "              \"fields\" : {\n",
      "                \"keyword\" : {\n",
      "                  \"type\" : \"keyword\",\n",
      "                  \"ignore_above\" : 256\n",
      "                }\n",
      "              }\n",
      "            },\n",
      "            \"pid\" : {\n",
      "              \"type\" : \"long\"\n",
      "            }\n",
      "          }\n",
      "        }\n",
      "      }\n",
      "    }\n",
      "  }\n",
      "}\n"
     ]
    }
   ],
   "source": [
    "#  Had to be executed in PuTTY\n",
    "#\n",
    "#         curl -XPUT \"http://127.0.0.1:9200/demo-default/_doc/1\" -d'{\n",
    "#           \"message\": \"[5592:1:0309/123054.737712:ERROR:child_process_sandbox_support_impl_linux.cc(79)] FontService unique font name matching request did not receive a response.\",\n",
    "#           \"fileset\": {\n",
    "#             \"name\": \"syslog\"\n",
    "#           },\n",
    "#           \"process\": {\n",
    "#             \"name\": \"org.gnome.Shell.desktop\",\n",
    "#             \"pid\": 3383\n",
    "#           },\n",
    "#           \"@timestamp\": \"2020-03-09T18:00:54.000+05:30\",\n",
    "#           \"host\": {\n",
    "#             \"hostname\": \"bionic\",\n",
    "#             \"name\": \"bionic\"\n",
    "#           }\n",
    "#         }'\n",
    "\n",
    "!curl -H \"Content-Type: application/json\" -XGET 'ec2-13-59-84-109.us-east-2.compute.amazonaws.com:9200/demo-default/_mapping?pretty=true'\n",
    "# Mapping of Demo-Default"
   ]
  },
  {
   "cell_type": "markdown",
   "id": "72c4cd17-85da-4b12-b0e2-5fec9eae8f11",
   "metadata": {},
   "source": [
    "**We did not define any mapping, but Elastic Search defined one on it's own**\n",
    "***\n",
    "This is stored in the cluster state"
   ]
  },
  {
   "cell_type": "code",
   "execution_count": 20,
   "id": "5ce420f9-8d4e-4a72-980e-a958b9fd3270",
   "metadata": {},
   "outputs": [
    {
     "name": "stdout",
     "output_type": "stream",
     "text": [
      "  % Total    % Received % Xferd  Average Speed   Time    Time     Time  Current\n",
      "                                 Dload  Upload   Total   Spent    Left  Speed\n",
      "100  193k  100  193k    0     0   675k      0 --:--:-- --:--:-- --:--:--  675k\n"
     ]
    }
   ],
   "source": [
    "!curl -H \"Content-Type: application/json\" -XGET 'ec2-13-59-84-109.us-east-2.compute.amazonaws.com:9200/_cluster/state?pretty=true' >> es-cluster-state.json"
   ]
  },
  {
   "cell_type": "markdown",
   "id": "a2417fb2-ce3f-4bca-a5c9-0cf2bd195261",
   "metadata": {},
   "source": [
    "#### ElasticSearch Cluster\n",
    "\n",
    " Node 2 $\\leftrightarrow$ Node 1(Master) $\\leftrightarrow$ Node 3\n",
    " \n",
    "     Cluster states are passed between the nodes to run smoothly.  \n",
    "     Upon recieving the state, nodes send a confirmation signal back to the master node. \n",
    "     For each new field, a mapping is added and the cluster state changes - other nodes sync which causes updates across all nodes. \n",
    "     Without updated state, indexing and searches cannot be performed. \n",
    "     When a cluster crashes because of too many fields, this is called mapping explosion.\n",
    " \n",
    " "
   ]
  },
  {
   "cell_type": "markdown",
   "id": "3d8ebbe9-ecc3-4101-8902-e98c94d9c4a3",
   "metadata": {},
   "source": [
    "#### Flattened Datatype Examples"
   ]
  },
  {
   "cell_type": "code",
   "execution_count": 22,
   "id": "14c78dfe-36c7-4605-8fb8-5eb3dd0a664d",
   "metadata": {},
   "outputs": [
    {
     "name": "stdout",
     "output_type": "stream",
     "text": [
      "{\"acknowledged\":true,\"shards_acknowledged\":true,\"index\":\"demo-flattened\"}"
     ]
    }
   ],
   "source": [
    "!curl -H \"Content-Type: application/json\" -XPUT 'ec2-13-59-84-109.us-east-2.compute.amazonaws.com:9200/demo-flattened'"
   ]
  },
  {
   "cell_type": "code",
   "execution_count": 23,
   "id": "01849da8-e2f7-4317-a9ad-eb00fa176876",
   "metadata": {},
   "outputs": [
    {
     "name": "stdout",
     "output_type": "stream",
     "text": [
      "{\"acknowledged\":true}"
     ]
    }
   ],
   "source": [
    "!curl -H \"Content-Type: application/json\" -XPUT 'ec2-13-59-84-109.us-east-2.compute.amazonaws.com:9200/demo-flattened/_mapping' -d '{ \"properties\": {\"host\": {\"type\": \"flattened\"}}}'"
   ]
  },
  {
   "cell_type": "code",
   "execution_count": 24,
   "id": "12aceb13-5a1f-44a9-a665-9ac155438413",
   "metadata": {},
   "outputs": [
    {
     "name": "stdout",
     "output_type": "stream",
     "text": [
      "{\n",
      "  \"demo-flattened\" : {\n",
      "    \"mappings\" : {\n",
      "      \"properties\" : {\n",
      "        \"@timestamp\" : {\n",
      "          \"type\" : \"date\"\n",
      "        },\n",
      "        \"fileset\" : {\n",
      "          \"properties\" : {\n",
      "            \"name\" : {\n",
      "              \"type\" : \"text\",\n",
      "              \"fields\" : {\n",
      "                \"keyword\" : {\n",
      "                  \"type\" : \"keyword\",\n",
      "                  \"ignore_above\" : 256\n",
      "                }\n",
      "              }\n",
      "            }\n",
      "          }\n",
      "        },\n",
      "        \"host\" : {\n",
      "          \"type\" : \"flattened\"\n",
      "        },\n",
      "        \"message\" : {\n",
      "          \"type\" : \"text\",\n",
      "          \"fields\" : {\n",
      "            \"keyword\" : {\n",
      "              \"type\" : \"keyword\",\n",
      "              \"ignore_above\" : 256\n",
      "            }\n",
      "          }\n",
      "        },\n",
      "        \"process\" : {\n",
      "          \"properties\" : {\n",
      "            \"name\" : {\n",
      "              \"type\" : \"text\",\n",
      "              \"fields\" : {\n",
      "                \"keyword\" : {\n",
      "                  \"type\" : \"keyword\",\n",
      "                  \"ignore_above\" : 256\n",
      "                }\n",
      "              }\n",
      "            },\n",
      "            \"pid\" : {\n",
      "              \"type\" : \"long\"\n",
      "            }\n",
      "          }\n",
      "        }\n",
      "      }\n",
      "    }\n",
      "  }\n",
      "}\n"
     ]
    }
   ],
   "source": [
    "# Entered into PuTTY\n",
    "# curl -XPUT \"http://127.0.0.1:9200/demo-flattened/_doc/1\" -d'{\n",
    "#   \"message\": \"[5592:1:0309/123054.737712:ERROR:child_process_sandbox_support_impl_linux.cc(79)] FontService unique font name matching request did not receive a response.\",\n",
    "#   \"fileset\": {\n",
    "#     \"name\": \"syslog\"\n",
    "#   },\n",
    "#   \"process\": {\n",
    "#     \"name\": \"org.gnome.Shell.desktop\",\n",
    "#     \"pid\": 3383\n",
    "#   },\n",
    "#   \"@timestamp\": \"2020-03-09T18:00:54.000+05:30\",\n",
    "#   \"host\": {\n",
    "#     \"hostname\": \"bionic\",\n",
    "#     \"name\": \"bionic\"\n",
    "#   }\n",
    "# }'\n",
    "!curl -H \"Content-Type: application/json\" -XGET 'ec2-13-59-84-109.us-east-2.compute.amazonaws.com:9200/demo-flattened/_mapping?pretty=true'"
   ]
  },
  {
   "cell_type": "markdown",
   "id": "15aeb6f2-a220-419f-9526-5904744bb304",
   "metadata": {},
   "source": [
    "**With the flattened mapping type, the field host contains inner fields but no longer shows inner fields.** \\\n",
    "Process was not mapped as a flattened type.  "
   ]
  },
  {
   "cell_type": "code",
   "execution_count": 25,
   "id": "11ba6d19-d8a3-4538-b7aa-0bb6b25348cc",
   "metadata": {},
   "outputs": [
    {
     "name": "stdout",
     "output_type": "stream",
     "text": [
      "{\"_index\":\"demo-flattened\",\"_type\":\"_doc\",\"_id\":\"1\",\"_version\":2,\"result\":\"updated\",\"_shards\":{\"total\":2,\"successful\":1,\"failed\":0},\"_seq_no\":1,\"_primary_term\":1}"
     ]
    }
   ],
   "source": [
    "!curl -H \"Content-Type: application/json\" -XPOST 'ec2-13-59-84-109.us-east-2.compute.amazonaws.com:9200/demo-flattened/_update/1' -d '{\"doc\" : {\"host\" : {\"osVersion\": \"Bionic Beaver\", \"osArchitecture\":\"x86_64\"}}}'"
   ]
  },
  {
   "cell_type": "code",
   "execution_count": 26,
   "id": "f1b6f99d-5d95-4fb0-ba92-ff2451c0be27",
   "metadata": {},
   "outputs": [
    {
     "name": "stdout",
     "output_type": "stream",
     "text": [
      "{\n",
      "  \"_index\" : \"demo-flattened\",\n",
      "  \"_type\" : \"_doc\",\n",
      "  \"_id\" : \"1\",\n",
      "  \"_version\" : 2,\n",
      "  \"_seq_no\" : 1,\n",
      "  \"_primary_term\" : 1,\n",
      "  \"found\" : true,\n",
      "  \"_source\" : {\n",
      "    \"message\" : \"[5592:1:0309/123054.737712:ERROR:child_process_sandbox_support_impl_linux.cc(79)] FontService unique font name matching request did not receive a response.\",\n",
      "    \"fileset\" : {\n",
      "      \"name\" : \"syslog\"\n",
      "    },\n",
      "    \"process\" : {\n",
      "      \"name\" : \"org.gnome.Shell.desktop\",\n",
      "      \"pid\" : 3383\n",
      "    },\n",
      "    \"@timestamp\" : \"2020-03-09T18:00:54.000+05:30\",\n",
      "    \"host\" : {\n",
      "      \"hostname\" : \"bionic\",\n",
      "      \"name\" : \"bionic\",\n",
      "      \"osVersion\" : \"Bionic Beaver\",\n",
      "      \"osArchitecture\" : \"x86_64\"\n",
      "    }\n",
      "  }\n",
      "}\n"
     ]
    }
   ],
   "source": [
    "!curl -H \"Content-Type: application/json\" -XGET 'ec2-13-59-84-109.us-east-2.compute.amazonaws.com:9200/demo-flattened/_doc/1?pretty=true'"
   ]
  },
  {
   "cell_type": "code",
   "execution_count": 27,
   "id": "1ce6687f-9868-45b9-80f0-c7d2e6eb7019",
   "metadata": {},
   "outputs": [
    {
     "name": "stdout",
     "output_type": "stream",
     "text": [
      "{\n",
      "  \"demo-flattened\" : {\n",
      "    \"mappings\" : {\n",
      "      \"properties\" : {\n",
      "        \"@timestamp\" : {\n",
      "          \"type\" : \"date\"\n",
      "        },\n",
      "        \"fileset\" : {\n",
      "          \"properties\" : {\n",
      "            \"name\" : {\n",
      "              \"type\" : \"text\",\n",
      "              \"fields\" : {\n",
      "                \"keyword\" : {\n",
      "                  \"type\" : \"keyword\",\n",
      "                  \"ignore_above\" : 256\n",
      "                }\n",
      "              }\n",
      "            }\n",
      "          }\n",
      "        },\n",
      "        \"host\" : {\n",
      "          \"type\" : \"flattened\"\n",
      "        },\n",
      "        \"message\" : {\n",
      "          \"type\" : \"text\",\n",
      "          \"fields\" : {\n",
      "            \"keyword\" : {\n",
      "              \"type\" : \"keyword\",\n",
      "              \"ignore_above\" : 256\n",
      "            }\n",
      "          }\n",
      "        },\n",
      "        \"process\" : {\n",
      "          \"properties\" : {\n",
      "            \"name\" : {\n",
      "              \"type\" : \"text\",\n",
      "              \"fields\" : {\n",
      "                \"keyword\" : {\n",
      "                  \"type\" : \"keyword\",\n",
      "                  \"ignore_above\" : 256\n",
      "                }\n",
      "              }\n",
      "            },\n",
      "            \"pid\" : {\n",
      "              \"type\" : \"long\"\n",
      "            }\n",
      "          }\n",
      "        }\n",
      "      }\n",
      "    }\n",
      "  }\n",
      "}\n"
     ]
    }
   ],
   "source": [
    "!curl -H \"Content-Type: application/json\" -XGET 'ec2-13-59-84-109.us-east-2.compute.amazonaws.com:9200/demo-flattened/_mappings?pretty=true'"
   ]
  },
  {
   "cell_type": "markdown",
   "id": "af454356-aacf-4164-bc78-d29f22be3c3a",
   "metadata": {},
   "source": [
    "**New inner fields are not mapped, so this reduces the chance of a mapping explosion.**  \\\n",
    "Fields of flattened data type will be treated as key words  \\\n",
    "**Note:** No analyzers or tokenizers will be applied to the flattened fields\n",
    " "
   ]
  },
  {
   "cell_type": "code",
   "execution_count": 29,
   "id": "1f98ded0-e0f0-44f6-8a4c-eb4ed5dc9225",
   "metadata": {},
   "outputs": [
    {
     "name": "stdout",
     "output_type": "stream",
     "text": [
      "{\n",
      "  \"took\" : 132,\n",
      "  \"timed_out\" : false,\n",
      "  \"_shards\" : {\n",
      "    \"total\" : 1,\n",
      "    \"successful\" : 1,\n",
      "    \"skipped\" : 0,\n",
      "    \"failed\" : 0\n",
      "  },\n",
      "  \"hits\" : {\n",
      "    \"total\" : {\n",
      "      \"value\" : 1,\n",
      "      \"relation\" : \"eq\"\n",
      "    },\n",
      "    \"max_score\" : 0.8713851,\n",
      "    \"hits\" : [\n",
      "      {\n",
      "        \"_index\" : \"demo-flattened\",\n",
      "        \"_type\" : \"_doc\",\n",
      "        \"_id\" : \"1\",\n",
      "        \"_score\" : 0.8713851,\n",
      "        \"_source\" : {\n",
      "          \"message\" : \"[5592:1:0309/123054.737712:ERROR:child_process_sandbox_support_impl_linux.cc(79)] FontService unique font name matching request did not receive a response.\",\n",
      "          \"fileset\" : {\n",
      "            \"name\" : \"syslog\"\n",
      "          },\n",
      "          \"process\" : {\n",
      "            \"name\" : \"org.gnome.Shell.desktop\",\n",
      "            \"pid\" : 3383\n",
      "          },\n",
      "          \"@timestamp\" : \"2020-03-09T18:00:54.000+05:30\",\n",
      "          \"host\" : {\n",
      "            \"hostname\" : \"bionic\",\n",
      "            \"name\" : \"bionic\",\n",
      "            \"osVersion\" : \"Bionic Beaver\",\n",
      "            \"osArchitecture\" : \"x86_64\"\n",
      "          }\n",
      "        }\n",
      "      }\n",
      "    ]\n",
      "  }\n",
      "}\n"
     ]
    }
   ],
   "source": [
    "!curl -H \"Content-Type: application/json\" -XGET 'ec2-13-59-84-109.us-east-2.compute.amazonaws.com:9200/demo-flattened/_search?pretty=true' -d '{\"query\": {\"match\": {\"host\": \"Bionic Beaver\"}}}'"
   ]
  },
  {
   "cell_type": "code",
   "execution_count": 32,
   "id": "88e7941f-7ca3-42ca-8405-78faafb636c6",
   "metadata": {},
   "outputs": [
    {
     "name": "stdout",
     "output_type": "stream",
     "text": [
      "{\n",
      "  \"took\" : 1,\n",
      "  \"timed_out\" : false,\n",
      "  \"_shards\" : {\n",
      "    \"total\" : 1,\n",
      "    \"successful\" : 1,\n",
      "    \"skipped\" : 0,\n",
      "    \"failed\" : 0\n",
      "  },\n",
      "  \"hits\" : {\n",
      "    \"total\" : {\n",
      "      \"value\" : 0,\n",
      "      \"relation\" : \"eq\"\n",
      "    },\n",
      "    \"max_score\" : null,\n",
      "    \"hits\" : [ ]\n",
      "  }\n",
      "}\n"
     ]
    }
   ],
   "source": [
    "# Because the fields are not analyzed, partial matches do not return results. \n",
    "!curl -H \"Content-Type: application/json\" -XGET 'ec2-13-59-84-109.us-east-2.compute.amazonaws.com:9200/demo-flattened/_search?pretty=true' -d '{\"query\": {\"match\": {\"host\": \"Beaver\"}}}'"
   ]
  },
  {
   "cell_type": "markdown",
   "id": "33774efd-5f84-4cf2-ac5d-874a4910aa76",
   "metadata": {},
   "source": [
    "#### Supported Queries for Flattened Datatype\n",
    "* term, terms and terms_set\n",
    "* prefix\n",
    "* range (non numerical range operations)\n",
    "* match and multi_match (exact keywords)\n",
    "* query_string and simple_query_string\n",
    "* exists"
   ]
  },
  {
   "cell_type": "markdown",
   "id": "83513d8c-3657-4665-87bc-8d4ccd3de1c3",
   "metadata": {},
   "source": [
    "### Dealing with Mapping Extensions\n",
    "#### Mappings\n",
    "\n",
    "**Mapping**\n",
    "* Process - Defining how JSON documents will be stored\n",
    "* Result - the actual metadata resulting from the definition process\n",
    "\n",
    "**Explicit Mapping**: Fields and their types are predefined. \n",
    "\n",
    "**Dynamic Mapping**: Fields and their types automatically defined by Elasticsearch. "
   ]
  },
  {
   "cell_type": "markdown",
   "id": "20ee0076-e7e4-4405-b82c-8f5c23159462",
   "metadata": {},
   "source": [
    "#### The Mapping Result\n",
    "\n",
    "        {\n",
    "            \"mappings\": {\n",
    "                \"properties\": {\n",
    "                    \"timestamp\": { \"type\": date\" },\n",
    "                    \"service\": { \"type\": keyword\" },\n",
    "                    \"host_ip\": { \"type\": \"ip\" },\n",
    "                    \"port\": { \"type\": \"integer\" },\n",
    "                    \"message\": { \"type\": \"text\"}\n",
    "                }\n",
    "\n",
    "\n",
    "* **Timestamp** mapped as date\n",
    "* **Service** mapped as a keyword\n",
    "* **IP** mapped as an ip datatype\n",
    "* **Port** mapped as an integer\n",
    "* **Message** mapped as text\n",
    "\n",
    "**Explicit Mapping**\n",
    "* Mapping exceptions when there's a mismatch\n",
    "\n",
    "**Dynamic Mapping**\n",
    "* May lead to a mapping explosion\n"
   ]
  },
  {
   "cell_type": "code",
   "execution_count": 37,
   "id": "6e2eaa63-b05c-4b0f-a32f-f4b4983460cf",
   "metadata": {},
   "outputs": [
    {
     "name": "stdout",
     "output_type": "stream",
     "text": [
      "curl: (6) Could not resolve host: PUT\n",
      "{\"error\":\"Incorrect HTTP method for uri [/microservice-logs] and method [POST], allowed: [PUT, DELETE, HEAD, GET]\",\"status\":405}"
     ]
    }
   ],
   "source": [
    "!curl --request PUT 'http://localhost:9200/microservice-logs' --data-raw '{\"mappings\": {\"properties\": {\"timestamp\": { \"type\": \"date\"  }, \"service\": { \"type\": \"keyword\" }, \"host_ip\": { \"type\": \"ip\" }, \"port\": { \"type\": \"integer\" }, \"message\": { \"type\": \"text\" }}}'\n"
   ]
  },
  {
   "cell_type": "code",
   "execution_count": null,
   "id": "56a1badc-b7b8-4f59-9f00-1be781fc14a7",
   "metadata": {},
   "outputs": [],
   "source": []
  }
 ],
 "metadata": {
  "kernelspec": {
   "display_name": "Python 3",
   "language": "python",
   "name": "python3"
  },
  "language_info": {
   "codemirror_mode": {
    "name": "ipython",
    "version": 3
   },
   "file_extension": ".py",
   "mimetype": "text/x-python",
   "name": "python",
   "nbconvert_exporter": "python",
   "pygments_lexer": "ipython3",
   "version": "3.9.4"
  }
 },
 "nbformat": 4,
 "nbformat_minor": 5
}
